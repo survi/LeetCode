{
 "metadata": {
  "name": "",
  "signature": "sha256:ce120f0e33c38cb54d728246343702a1680e1e06925b857d989a4cfbd5aee061"
 },
 "nbformat": 3,
 "nbformat_minor": 0,
 "worksheets": [
  {
   "cells": [
    {
     "cell_type": "heading",
     "level": 1,
     "metadata": {},
     "source": [
      "Q1"
     ]
    },
    {
     "cell_type": "heading",
     "level": 2,
     "metadata": {},
     "source": [
      "Code"
     ]
    },
    {
     "cell_type": "code",
     "collapsed": false,
     "input": [
      "class Solution1(object):\n",
      "    def findNthDigit(self, n):\n",
      "        \"\"\"\n",
      "        :type n: int\n",
      "        :rtype: int\n",
      "        \"\"\"\n",
      "        if n <=0 or n >= 2147483648:\n",
      "            print None\n",
      "            return None\n",
      "        nthdict = {0:0,\n",
      "                     1: 9,\n",
      "                     2: 189,\n",
      "                     3: 2889,\n",
      "                     4: 38889,\n",
      "                     5: 488889,\n",
      "                     6: 5888889,\n",
      "                     7: 68888889,\n",
      "                     8: 788888889,\n",
      "                     9: 8888888889,\n",
      "                     10: 98888888889}\n",
      "        for i in range(1,11,1):\n",
      "            if n < nthdict[i]:\n",
      "                remain = n - nthdict[i-1]\n",
      "                m = remain / i\n",
      "                k = remain % i\n",
      "                if i <= 1:\n",
      "                    base = 0\n",
      "                else:\n",
      "                    base = int('9'*(i-1))\n",
      "                l = base + m if k == 0 else base + m + 1\n",
      "                print m,k,l\n",
      "                return int(str(l)[-1]) if k==0 else int(str(l)[k-1])"
     ],
     "language": "python",
     "metadata": {},
     "outputs": [],
     "prompt_number": 44
    },
    {
     "cell_type": "heading",
     "level": 2,
     "metadata": {},
     "source": [
      "Test"
     ]
    },
    {
     "cell_type": "code",
     "collapsed": false,
     "input": [
      "s1 = Solution1()"
     ],
     "language": "python",
     "metadata": {},
     "outputs": [],
     "prompt_number": 45
    },
    {
     "cell_type": "code",
     "collapsed": false,
     "input": [
      "s1.findNthDigit(3)"
     ],
     "language": "python",
     "metadata": {},
     "outputs": [
      {
       "output_type": "stream",
       "stream": "stdout",
       "text": [
        "3 0 3\n"
       ]
      },
      {
       "metadata": {},
       "output_type": "pyout",
       "prompt_number": 46,
       "text": [
        "3"
       ]
      }
     ],
     "prompt_number": 46
    },
    {
     "cell_type": "code",
     "collapsed": false,
     "input": [
      "2 ** 31"
     ],
     "language": "python",
     "metadata": {},
     "outputs": [
      {
       "metadata": {},
       "output_type": "pyout",
       "prompt_number": 2,
       "text": [
        "2147483648"
       ]
      }
     ],
     "prompt_number": 2
    },
    {
     "cell_type": "code",
     "collapsed": false,
     "input": [
      "1*9 + 2 * (90) + 3 * (900) + 4 * (9000) + 5 * 900000"
     ],
     "language": "python",
     "metadata": {},
     "outputs": [],
     "prompt_number": 0
    },
    {
     "cell_type": "code",
     "collapsed": false,
     "input": [
      "sumi = 0\n",
      "ndict = {}\n",
      "for i in range(1,11,1):\n",
      "    sumi += i*(9*10**(i-1))\n",
      "    print i,';',i*(9*10**i),sumi\n",
      "    ndict[i] = sumi\n",
      "ndict"
     ],
     "language": "python",
     "metadata": {},
     "outputs": [
      {
       "output_type": "stream",
       "stream": "stdout",
       "text": [
        "1 ; 90 9\n",
        "2 ; 1800 189\n",
        "3 ; 27000 2889\n",
        "4 ; 360000 38889\n",
        "5 ; 4500000 488889\n",
        "6 ; 54000000 5888889\n",
        "7 ; 630000000 68888889\n",
        "8 ; 7200000000 788888889\n",
        "9 ; 81000000000 8888888889\n",
        "10 ; 900000000000 98888888889\n"
       ]
      },
      {
       "metadata": {},
       "output_type": "pyout",
       "prompt_number": 7,
       "text": [
        "{1: 9,\n",
        " 2: 189,\n",
        " 3: 2889,\n",
        " 4: 38889,\n",
        " 5: 488889,\n",
        " 6: 5888889,\n",
        " 7: 68888889,\n",
        " 8: 788888889,\n",
        " 9: 8888888889,\n",
        " 10: 98888888889}"
       ]
      }
     ],
     "prompt_number": 7
    },
    {
     "cell_type": "code",
     "collapsed": false,
     "input": [
      "nthdict = {1: 9,\n",
      " 2: 189,\n",
      " 3: 2889,\n",
      " 4: 38889,\n",
      " 5: 488889,\n",
      " 6: 5888889,\n",
      " 7: 68888889,\n",
      " 8: 788888889,\n",
      " 9: 8888888889,\n",
      " 10: 98888888889}"
     ],
     "language": "python",
     "metadata": {},
     "outputs": [],
     "prompt_number": 9
    },
    {
     "cell_type": "code",
     "collapsed": false,
     "input": [
      "nthdict[1]"
     ],
     "language": "python",
     "metadata": {},
     "outputs": [
      {
       "metadata": {},
       "output_type": "pyout",
       "prompt_number": 10,
       "text": [
        "9"
       ]
      }
     ],
     "prompt_number": 10
    },
    {
     "cell_type": "heading",
     "level": 1,
     "metadata": {},
     "source": [
      "Q2"
     ]
    },
    {
     "cell_type": "heading",
     "level": 2,
     "metadata": {},
     "source": [
      "Code"
     ]
    },
    {
     "cell_type": "code",
     "collapsed": false,
     "input": [],
     "language": "python",
     "metadata": {},
     "outputs": [],
     "prompt_number": 0
    },
    {
     "cell_type": "heading",
     "level": 2,
     "metadata": {},
     "source": [
      "Test"
     ]
    },
    {
     "cell_type": "code",
     "collapsed": false,
     "input": [],
     "language": "python",
     "metadata": {},
     "outputs": [],
     "prompt_number": 0
    },
    {
     "cell_type": "code",
     "collapsed": false,
     "input": [],
     "language": "python",
     "metadata": {},
     "outputs": [],
     "prompt_number": 0
    },
    {
     "cell_type": "code",
     "collapsed": false,
     "input": [],
     "language": "python",
     "metadata": {},
     "outputs": [],
     "prompt_number": 0
    },
    {
     "cell_type": "heading",
     "level": 1,
     "metadata": {},
     "source": [
      "Q3"
     ]
    },
    {
     "cell_type": "heading",
     "level": 2,
     "metadata": {},
     "source": [
      "Code"
     ]
    },
    {
     "cell_type": "code",
     "collapsed": false,
     "input": [],
     "language": "python",
     "metadata": {},
     "outputs": [],
     "prompt_number": 0
    },
    {
     "cell_type": "heading",
     "level": 2,
     "metadata": {},
     "source": [
      "Test"
     ]
    },
    {
     "cell_type": "code",
     "collapsed": false,
     "input": [],
     "language": "python",
     "metadata": {},
     "outputs": [],
     "prompt_number": 1
    },
    {
     "cell_type": "code",
     "collapsed": false,
     "input": [],
     "language": "python",
     "metadata": {},
     "outputs": []
    },
    {
     "cell_type": "code",
     "collapsed": false,
     "input": [],
     "language": "python",
     "metadata": {},
     "outputs": [],
     "prompt_number": 1
    },
    {
     "cell_type": "heading",
     "level": 1,
     "metadata": {},
     "source": [
      "Q4"
     ]
    },
    {
     "cell_type": "heading",
     "level": 2,
     "metadata": {},
     "source": [
      "Code"
     ]
    },
    {
     "cell_type": "code",
     "collapsed": false,
     "input": [
      "class Solution(object):\n",
      "    def canCross(self, stones):\n",
      "        \"\"\"\n",
      "        :type stones: List[int]\n",
      "        :rtype: bool\n",
      "        \"\"\"\n",
      "        return self.cross(stones,1, True)\n",
      "        \n",
      "    def cross(self, stones, k, isfirst = False):\n",
      "        nextlist = []\n",
      "        for i in range(1, len(stones),1):\n",
      "            if stones[i] - stones[0] > k + 1:\n",
      "                break\n",
      "            elif stones[i] - stones[0] == k:\n",
      "                nextlist.append(i)\n",
      "            elif stones[i] - stones[0] == k-1 or stones[i] - stones[0] == k+1:\n",
      "                if not isfirst:\n",
      "                    nextlist.append(i)\n",
      "        if nextlist == []:\n",
      "            return False\n",
      "        else:\n",
      "            # print nextlist\n",
      "            if len(stones) == 2:\n",
      "                return True\n",
      "            else:\n",
      "                for j in nextlist:\n",
      "                    if self.cross(stones[j:],stones[j]-stones[0]) == True:\n",
      "                        return True\n",
      "                return False\n",
      "            \n",
      "    "
     ],
     "language": "python",
     "metadata": {},
     "outputs": [],
     "prompt_number": 1
    },
    {
     "cell_type": "heading",
     "level": 2,
     "metadata": {},
     "source": [
      "Test"
     ]
    },
    {
     "cell_type": "code",
     "collapsed": false,
     "input": [],
     "language": "python",
     "metadata": {},
     "outputs": [],
     "prompt_number": 1
    },
    {
     "cell_type": "code",
     "collapsed": false,
     "input": [],
     "language": "python",
     "metadata": {},
     "outputs": [],
     "prompt_number": 1
    },
    {
     "cell_type": "code",
     "collapsed": false,
     "input": [],
     "language": "python",
     "metadata": {},
     "outputs": []
    }
   ],
   "metadata": {}
  }
 ]
}