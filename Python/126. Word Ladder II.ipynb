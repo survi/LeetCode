{
 "metadata": {
  "name": "",
  "signature": "sha256:134d5cdcd50762b562bee5c7a4c4238cd3d9b77b8c24bcc9130595013b1e250d"
 },
 "nbformat": 3,
 "nbformat_minor": 0,
 "worksheets": [
  {
   "cells": [
    {
     "cell_type": "code",
     "collapsed": false,
     "input": [
      "    def fitWord(word1, word2):\n",
      "        if len(word1) <= 0:\n",
      "            if word1 == word2:\n",
      "                return True\n",
      "        else:\n",
      "            for pos in range(len(word1)):\n",
      "                if word1[:pos] == word2[:pos] and word1[pos+1:] == word2[pos+1:]:\n",
      "                    return True\n",
      "        return False"
     ],
     "language": "python",
     "metadata": {},
     "outputs": []
    },
    {
     "cell_type": "code",
     "collapsed": false,
     "input": [
      "%timeit fitWord('hot','lot')"
     ],
     "language": "python",
     "metadata": {},
     "outputs": [
      {
       "output_type": "stream",
       "stream": "stdout",
       "text": [
        "100000 loops, best of 3: 1.86 \u00b5s per loop\n"
       ]
      }
     ],
     "prompt_number": 162
    },
    {
     "cell_type": "code",
     "collapsed": false,
     "input": [
      "class Solution(object):\n",
      "    minl = None\n",
      "    outsol = []\n",
      "    wdict = {}\n",
      "    def findLadders(self, beginWord, endWord, wordlist):\n",
      "        \"\"\"\n",
      "        :type beginWord: str\n",
      "        :type endWord: str\n",
      "        :type wordlist: Set[str]\n",
      "        :rtype: List[List[int]]\n",
      "        \"\"\"\n",
      "        self.minl = len(wordlist)+2\n",
      "        self.outsol = []\n",
      "        self.wdict = {}\n",
      "        wordlist.add(endWord)\n",
      "        try:\n",
      "            wordlist.remove(beginWord)\n",
      "        except:\n",
      "            pass\n",
      "        self.nextWord(beginWord, endWord, wordlist, [beginWord])\n",
      "        return self.outsol\n",
      "        \n",
      "    def nextWord(self, beginWord, endWord, wordlist, sollist):\n",
      "        # print beginWord, endWord,len(wordlist), self.minl\n",
      "        if beginWord == endWord:\n",
      "            if len(sollist) == self.minl:\n",
      "                self.outsol.append(sollist)\n",
      "            elif len(sollist) <= self.minl:\n",
      "                self.outsol = []\n",
      "                self.outsol.append(sollist)\n",
      "                self.minl = len(sollist)\n",
      "        elif len(sollist) < self.minl:\n",
      "            if self.fitWord(beginWord,endWord):\n",
      "                sollist.append(endWord)\n",
      "                self.nextWord(endWord,endWord,[],sollist)\n",
      "            else:\n",
      "                if self.wdict.get(beginWord, False) == False:\n",
      "                    nextlist = []\n",
      "                    donext = True\n",
      "                    for w in wordlist:\n",
      "                        if self.fitWord(beginWord,w):\n",
      "                            if self.fitWord(endWord,w):\n",
      "                                tsollist = sollist[:]\n",
      "                                tsollist.append(w)\n",
      "                                tsollist.append(endWord)\n",
      "                                self.nextWord(endWord,endWord,[],tsollist)\n",
      "                                donext = False\n",
      "                                break\n",
      "                            else:\n",
      "                                nextlist.append(w)\n",
      "                    self.wdict[beginWord] = nextlist\n",
      "                else:\n",
      "                    nextlist = self.wdict[beginWord]\n",
      "                    donext = True\n",
      "                if donext:\n",
      "                    for w in nextlist:\n",
      "                        if (w not in sollist):                    \n",
      "                            tsollist = sollist[:]\n",
      "                            tsollist.append(w)\n",
      "                            self.nextWord(w,endWord,wordlist,tsollist)\n",
      "        \n",
      "    def fitWord(self, word1, word2):\n",
      "        if len(word1) <= 0:\n",
      "            if word1 == word2:\n",
      "                return True\n",
      "        else:\n",
      "            for pos in range(len(word1)):\n",
      "                if word1[pos] == word2[pos]:\n",
      "                    continue\n",
      "                elif word1[:pos] == word2[:pos] and word1[pos+1:] == word2[pos+1:]:\n",
      "                    return True\n",
      "                else:\n",
      "                    break\n",
      "        return False"
     ],
     "language": "python",
     "metadata": {},
     "outputs": [],
     "prompt_number": 182
    },
    {
     "cell_type": "code",
     "collapsed": false,
     "input": [
      "test = Solution()"
     ],
     "language": "python",
     "metadata": {},
     "outputs": [],
     "prompt_number": 183
    },
    {
     "cell_type": "code",
     "collapsed": false,
     "input": [
      "test.findLadders('hit','cog',set([\"hot\",\"dot\",\"dog\",\"lot\",\"log\"]))"
     ],
     "language": "python",
     "metadata": {},
     "outputs": [
      {
       "metadata": {},
       "output_type": "pyout",
       "prompt_number": 184,
       "text": [
        "[['hit', 'hot', 'lot', 'log', 'cog'], ['hit', 'hot', 'dot', 'dog', 'cog']]"
       ]
      }
     ],
     "prompt_number": 184
    },
    {
     "cell_type": "code",
     "collapsed": false,
     "input": [
      "test.findLadders('h','c',set([\"h\",\"t\",\"o\",\"l\",\"c\"]))"
     ],
     "language": "python",
     "metadata": {},
     "outputs": [
      {
       "metadata": {},
       "output_type": "pyout",
       "prompt_number": 185,
       "text": [
        "[['h', 'c']]"
       ]
      }
     ],
     "prompt_number": 185
    },
    {
     "cell_type": "code",
     "collapsed": false,
     "input": [
      "beginWord = \"cet\"\n",
      "endWord = \"ism\"\n",
      "wordlist = [\"kid\",\"tag\",\"pup\",\"ail\",\"tun\",\"woo\",\"erg\",\"luz\",\"brr\",\"gay\",\"sip\",\"kay\",\"per\",\"val\",\"mes\",\"ohs\",\"now\",\"boa\",\"cet\",\"pal\",\"bar\",\"die\",\"war\",\"hay\",\"eco\",\"pub\",\"lob\",\"rue\",\"fry\",\"lit\",\"rex\",\"jan\",\"cot\",\"bid\",\"ali\",\"pay\",\"col\",\"gum\",\"ger\",\"row\",\"won\",\"dan\",\"rum\",\"fad\",\"tut\",\"sag\",\"yip\",\"sui\",\"ark\",\"has\",\"zip\",\"fez\",\"own\",\"ump\",\"dis\",\"ads\",\"max\",\"jaw\",\"out\",\"btu\",\"ana\",\"gap\",\"cry\",\"led\",\"abe\",\"box\",\"ore\",\"pig\",\"fie\",\"toy\",\"fat\",\"cal\",\"lie\",\"noh\",\"sew\",\"ono\",\"tam\",\"flu\",\"mgm\",\"ply\",\"awe\",\"pry\",\"tit\",\"tie\",\"yet\",\"too\",\"tax\",\"jim\",\"san\",\"pan\",\"map\",\"ski\",\"ova\",\"wed\",\"non\",\"wac\",\"nut\",\"why\",\"bye\",\"lye\",\"oct\",\"old\",\"fin\",\"feb\",\"chi\",\"sap\",\"owl\",\"log\",\"tod\",\"dot\",\"bow\",\"fob\",\"for\",\"joe\",\"ivy\",\"fan\",\"age\",\"fax\",\"hip\",\"jib\",\"mel\",\"hus\",\"sob\",\"ifs\",\"tab\",\"ara\",\"dab\",\"jag\",\"jar\",\"arm\",\"lot\",\"tom\",\"sax\",\"tex\",\"yum\",\"pei\",\"wen\",\"wry\",\"ire\",\"irk\",\"far\",\"mew\",\"wit\",\"doe\",\"gas\",\"rte\",\"ian\",\"pot\",\"ask\",\"wag\",\"hag\",\"amy\",\"nag\",\"ron\",\"soy\",\"gin\",\"don\",\"tug\",\"fay\",\"vic\",\"boo\",\"nam\",\"ave\",\"buy\",\"sop\",\"but\",\"orb\",\"fen\",\"paw\",\"his\",\"sub\",\"bob\",\"yea\",\"oft\",\"inn\",\"rod\",\"yam\",\"pew\",\"web\",\"hod\",\"hun\",\"gyp\",\"wei\",\"wis\",\"rob\",\"gad\",\"pie\",\"mon\",\"dog\",\"bib\",\"rub\",\"ere\",\"dig\",\"era\",\"cat\",\"fox\",\"bee\",\"mod\",\"day\",\"apr\",\"vie\",\"nev\",\"jam\",\"pam\",\"new\",\"aye\",\"ani\",\"and\",\"ibm\",\"yap\",\"can\",\"pyx\",\"tar\",\"kin\",\"fog\",\"hum\",\"pip\",\"cup\",\"dye\",\"lyx\",\"jog\",\"nun\",\"par\",\"wan\",\"fey\",\"bus\",\"oak\",\"bad\",\"ats\",\"set\",\"qom\",\"vat\",\"eat\",\"pus\",\"rev\",\"axe\",\"ion\",\"six\",\"ila\",\"lao\",\"mom\",\"mas\",\"pro\",\"few\",\"opt\",\"poe\",\"art\",\"ash\",\"oar\",\"cap\",\"lop\",\"may\",\"shy\",\"rid\",\"bat\",\"sum\",\"rim\",\"fee\",\"bmw\",\"sky\",\"maj\",\"hue\",\"thy\",\"ava\",\"rap\",\"den\",\"fla\",\"auk\",\"cox\",\"ibo\",\"hey\",\"saw\",\"vim\",\"sec\",\"ltd\",\"you\",\"its\",\"tat\",\"dew\",\"eva\",\"tog\",\"ram\",\"let\",\"see\",\"zit\",\"maw\",\"nix\",\"ate\",\"gig\",\"rep\",\"owe\",\"ind\",\"hog\",\"eve\",\"sam\",\"zoo\",\"any\",\"dow\",\"cod\",\"bed\",\"vet\",\"ham\",\"sis\",\"hex\",\"via\",\"fir\",\"nod\",\"mao\",\"aug\",\"mum\",\"hoe\",\"bah\",\"hal\",\"keg\",\"hew\",\"zed\",\"tow\",\"gog\",\"ass\",\"dem\",\"who\",\"bet\",\"gos\",\"son\",\"ear\",\"spy\",\"kit\",\"boy\",\"due\",\"sen\",\"oaf\",\"mix\",\"hep\",\"fur\",\"ada\",\"bin\",\"nil\",\"mia\",\"ewe\",\"hit\",\"fix\",\"sad\",\"rib\",\"eye\",\"hop\",\"haw\",\"wax\",\"mid\",\"tad\",\"ken\",\"wad\",\"rye\",\"pap\",\"bog\",\"gut\",\"ito\",\"woe\",\"our\",\"ado\",\"sin\",\"mad\",\"ray\",\"hon\",\"roy\",\"dip\",\"hen\",\"iva\",\"lug\",\"asp\",\"hui\",\"yak\",\"bay\",\"poi\",\"yep\",\"bun\",\"try\",\"lad\",\"elm\",\"nat\",\"wyo\",\"gym\",\"dug\",\"toe\",\"dee\",\"wig\",\"sly\",\"rip\",\"geo\",\"cog\",\"pas\",\"zen\",\"odd\",\"nan\",\"lay\",\"pod\",\"fit\",\"hem\",\"joy\",\"bum\",\"rio\",\"yon\",\"dec\",\"leg\",\"put\",\"sue\",\"dim\",\"pet\",\"yaw\",\"nub\",\"bit\",\"bur\",\"sid\",\"sun\",\"oil\",\"red\",\"doc\",\"moe\",\"caw\",\"eel\",\"dix\",\"cub\",\"end\",\"gem\",\"off\",\"yew\",\"hug\",\"pop\",\"tub\",\"sgt\",\"lid\",\"pun\",\"ton\",\"sol\",\"din\",\"yup\",\"jab\",\"pea\",\"bug\",\"gag\",\"mil\",\"jig\",\"hub\",\"low\",\"did\",\"tin\",\"get\",\"gte\",\"sox\",\"lei\",\"mig\",\"fig\",\"lon\",\"use\",\"ban\",\"flo\",\"nov\",\"jut\",\"bag\",\"mir\",\"sty\",\"lap\",\"two\",\"ins\",\"con\",\"ant\",\"net\",\"tux\",\"ode\",\"stu\",\"mug\",\"cad\",\"nap\",\"gun\",\"fop\",\"tot\",\"sow\",\"sal\",\"sic\",\"ted\",\"wot\",\"del\",\"imp\",\"cob\",\"way\",\"ann\",\"tan\",\"mci\",\"job\",\"wet\",\"ism\",\"err\",\"him\",\"all\",\"pad\",\"hah\",\"hie\",\"aim\",\"ike\",\"jed\",\"ego\",\"mac\",\"baa\",\"min\",\"com\",\"ill\",\"was\",\"cab\",\"ago\",\"ina\",\"big\",\"ilk\",\"gal\",\"tap\",\"duh\",\"ola\",\"ran\",\"lab\",\"top\",\"gob\",\"hot\",\"ora\",\"tia\",\"kip\",\"han\",\"met\",\"hut\",\"she\",\"sac\",\"fed\",\"goo\",\"tee\",\"ell\",\"not\",\"act\",\"gil\",\"rut\",\"ala\",\"ape\",\"rig\",\"cid\",\"god\",\"duo\",\"lin\",\"aid\",\"gel\",\"awl\",\"lag\",\"elf\",\"liz\",\"ref\",\"aha\",\"fib\",\"oho\",\"tho\",\"her\",\"nor\",\"ace\",\"adz\",\"fun\",\"ned\",\"coo\",\"win\",\"tao\",\"coy\",\"van\",\"man\",\"pit\",\"guy\",\"foe\",\"hid\",\"mai\",\"sup\",\"jay\",\"hob\",\"mow\",\"jot\",\"are\",\"pol\",\"arc\",\"lax\",\"aft\",\"alb\",\"len\",\"air\",\"pug\",\"pox\",\"vow\",\"got\",\"meg\",\"zoe\",\"amp\",\"ale\",\"bud\",\"gee\",\"pin\",\"dun\",\"pat\",\"ten\",\"mob\"]"
     ],
     "language": "python",
     "metadata": {},
     "outputs": [],
     "prompt_number": 175
    },
    {
     "cell_type": "code",
     "collapsed": false,
     "input": [
      "wordset = set(wordlist)\n",
      "len(wordset)"
     ],
     "language": "python",
     "metadata": {},
     "outputs": [
      {
       "metadata": {},
       "output_type": "pyout",
       "prompt_number": 176,
       "text": [
        "599"
       ]
      }
     ],
     "prompt_number": 176
    },
    {
     "cell_type": "code",
     "collapsed": false,
     "input": [
      "# test.findLadders(beginWord,endWord,wordset)"
     ],
     "language": "python",
     "metadata": {},
     "outputs": [],
     "prompt_number": 326
    },
    {
     "cell_type": "code",
     "collapsed": false,
     "input": [
      "# %timeit test.findLadders(beginWord,endWord,wordset)"
     ],
     "language": "python",
     "metadata": {},
     "outputs": []
    },
    {
     "cell_type": "code",
     "collapsed": false,
     "input": [
      "%timeit test.findLadders('hit','cog',set([\"hot\",\"dot\",\"dog\",\"lot\",\"log\"]))"
     ],
     "language": "python",
     "metadata": {},
     "outputs": [
      {
       "output_type": "stream",
       "stream": "stdout",
       "text": [
        "10000 loops, best of 3: 109 \u00b5s per loop\n"
       ]
      }
     ],
     "prompt_number": 186
    },
    {
     "cell_type": "code",
     "collapsed": false,
     "input": [],
     "language": "python",
     "metadata": {},
     "outputs": []
    },
    {
     "cell_type": "code",
     "collapsed": false,
     "input": [
      "setword = set(['log','cog'])"
     ],
     "language": "python",
     "metadata": {},
     "outputs": []
    },
    {
     "cell_type": "code",
     "collapsed": false,
     "input": [],
     "language": "python",
     "metadata": {},
     "outputs": [],
     "prompt_number": 187
    },
    {
     "cell_type": "heading",
     "level": 2,
     "metadata": {},
     "source": [
      "2nd Try"
     ]
    },
    {
     "cell_type": "code",
     "collapsed": false,
     "input": [
      "    def fitWord(word1, word2):\n",
      "        if len(word1) <= 0:\n",
      "            if word1 == word2:\n",
      "                return True\n",
      "        else:\n",
      "            for pos in range(len(word1)):\n",
      "                if word1[pos] == word2[pos]:\n",
      "                    continue\n",
      "                elif word1[:pos] == word2[:pos] and word1[pos+1:] == word2[pos+1:]:\n",
      "                    return True\n",
      "                else:\n",
      "                    break\n",
      "        return False"
     ],
     "language": "python",
     "metadata": {},
     "outputs": [],
     "prompt_number": 267
    },
    {
     "cell_type": "code",
     "collapsed": false,
     "input": [
      "def beginRoute(beginWord,wordlist):\n",
      "    beginroute = [set([beginWord])]\n",
      "    try:\n",
      "        wordlist.remove(beginWord)\n",
      "    except:\n",
      "        pass\n",
      "    i = 0\n",
      "    while len(wordlist) > 0:\n",
      "        print wordlist\n",
      "        tlist = set()\n",
      "        for br in beginroute[i]:\n",
      "            for w in wordlist:\n",
      "                if fitWord(br,w):\n",
      "                    tlist.add(w)\n",
      "        if len(tlist) == 0:\n",
      "            break\n",
      "        beginroute.append(tlist)\n",
      "        wordlist = wordlist - tlist\n",
      "        i += 1\n",
      "    return beginroute"
     ],
     "language": "python",
     "metadata": {},
     "outputs": [],
     "prompt_number": 204
    },
    {
     "cell_type": "code",
     "collapsed": false,
     "input": [
      "def endRoute(endWord,wordlist):\n",
      "    endroute = [set([endWord])]\n",
      "    try:\n",
      "        wordlist.remove(endWord)\n",
      "    except:\n",
      "        pass\n",
      "    i = 0\n",
      "    while len(wordlist) > 0:\n",
      "        print wordlist\n",
      "        tlist = set()\n",
      "        for br in endroute[i]:\n",
      "            for w in wordlist:\n",
      "                if fitWord(br,w):\n",
      "                    tlist.add(w)\n",
      "        if len(tlist) == 0:\n",
      "            break\n",
      "        endroute.append(tlist)\n",
      "        wordlist = wordlist - tlist\n",
      "        i += 1\n",
      "    return endroute"
     ],
     "language": "python",
     "metadata": {},
     "outputs": [],
     "prompt_number": 205
    },
    {
     "cell_type": "code",
     "collapsed": false,
     "input": [
      "def beginEndRoute(beginWord,endWord, wordlist):\n",
      "    beginroute = [set([beginWord])]\n",
      "    endroute = [set([endWord])]\n",
      "    bwordlist = wordlist.copy()\n",
      "    ewordlist = wordlist.copy()\n",
      "    outlist = []\n",
      "    try:\n",
      "        bwordlist.remove(beginWord)\n",
      "    except:\n",
      "        pass\n",
      "    try:\n",
      "        ewordlist.remove(endWord)\n",
      "    except:\n",
      "        pass\n",
      "    i = 0\n",
      "    while len(bwordlist) > 0:\n",
      "#         print bwordlist\n",
      "        btlist = set()\n",
      "        for br in beginroute[i]:\n",
      "            for w in bwordlist:\n",
      "                if fitWord(br,w):\n",
      "                    btlist.add(w)\n",
      "        if len(btlist) == 0:\n",
      "            break\n",
      "        beginroute.append(btlist)\n",
      "        bwordlist = bwordlist - btlist\n",
      "        print 'btlist:',btlist,'endroute[i]:',endroute[i]\n",
      "        outlist = [b for b in btlist if b in endroute[i]]\n",
      "        if outlist:\n",
      "            break\n",
      "            \n",
      "            \n",
      "#         print ewordlist\n",
      "        etlist = set()\n",
      "        for br in endroute[i]:\n",
      "            for w in ewordlist:\n",
      "                if fitWord(br,w):\n",
      "                    etlist.add(w)\n",
      "        if len(etlist) == 0:\n",
      "            break\n",
      "        endroute.append(etlist)\n",
      "        ewordlist = ewordlist - etlist\n",
      "        print 'etlist:',etlist,'btlist:',btlist\n",
      "        outlist = [e for e in etlist if e in btlist]\n",
      "        if outlist:\n",
      "            break\n",
      "        \n",
      "        i += 1\n",
      "        \n",
      "    return {'beginroute':beginroute, 'endroute':endroute, 'outlist':[[ot] for ot in outlist]}"
     ],
     "language": "python",
     "metadata": {},
     "outputs": [],
     "prompt_number": 288
    },
    {
     "cell_type": "code",
     "collapsed": false,
     "input": [
      "def buildBeginRoute(beginroute,startlist):\n",
      "    print '---------------------------------'\n",
      "    print beginroute\n",
      "    boutlist = []\n",
      "    for st in startlist:\n",
      "#         print st[-1],beginroute[-1]\n",
      "        boutlist += [st[:]+[w] for w in beginroute[-1] if fitWord(w,st[-1])]\n",
      "#     print outlist\n",
      "    print len(beginroute)\n",
      "    print boutlist\n",
      "    if len(beginroute) <= 1:\n",
      "        print '<=1'\n",
      "        print boutlist\n",
      "        return boutlist\n",
      "    else:\n",
      "        buildBeginRoute(beginroute[:-1],boutlist)\n",
      "\n",
      "def buildEndRoute(endroute,startlist):\n",
      "    print '---------------------------------'\n",
      "    print endroute\n",
      "    eoutlist = []\n",
      "    for st in startlist:\n",
      "#         print st[-1],endroute[-1]\n",
      "        eoutlist += [st[:]+[w] for w in endroute[-1] if fitWord(w,st[-1])]\n",
      "#     print outlist\n",
      "    print len(endroute)\n",
      "    print eoutlist\n",
      "    if len(endroute) <= 1:\n",
      "        print '<=1'\n",
      "        print eoutlist\n",
      "        return eoutlist\n",
      "    else:\n",
      "        buildEndRoute(endroute[:-1],eoutlist)\n",
      "                    "
     ],
     "language": "python",
     "metadata": {},
     "outputs": [],
     "prompt_number": 319
    },
    {
     "cell_type": "code",
     "collapsed": false,
     "input": [],
     "language": "python",
     "metadata": {},
     "outputs": [],
     "prompt_number": 289
    },
    {
     "cell_type": "code",
     "collapsed": false,
     "input": [],
     "language": "python",
     "metadata": {},
     "outputs": [],
     "prompt_number": 289
    },
    {
     "cell_type": "code",
     "collapsed": false,
     "input": [],
     "language": "python",
     "metadata": {},
     "outputs": [],
     "prompt_number": 289
    },
    {
     "cell_type": "code",
     "collapsed": false,
     "input": [
      "beginRoute('hit',set([\"hot\",\"dot\",\"dog\",\"lot\",\"log\"]))"
     ],
     "language": "python",
     "metadata": {},
     "outputs": [
      {
       "output_type": "stream",
       "stream": "stdout",
       "text": [
        "set(['hot', 'lot', 'dog', 'dot', 'log'])\n",
        "set(['dot', 'dog', 'lot', 'log'])\n",
        "set(['dog', 'log'])\n"
       ]
      },
      {
       "metadata": {},
       "output_type": "pyout",
       "prompt_number": 290,
       "text": [
        "[{'hit'}, {'hot'}, {'dot', 'lot'}, {'dog', 'log'}]"
       ]
      }
     ],
     "prompt_number": 290
    },
    {
     "cell_type": "code",
     "collapsed": false,
     "input": [
      "endRoute('cog',set([\"hot\",\"dot\",\"dog\",\"lot\",\"log\"]))"
     ],
     "language": "python",
     "metadata": {},
     "outputs": [
      {
       "output_type": "stream",
       "stream": "stdout",
       "text": [
        "set(['hot', 'lot', 'dog', 'dot', 'log'])\n",
        "set(['hot', 'dot', 'lot'])\n",
        "set(['hot'])\n"
       ]
      },
      {
       "metadata": {},
       "output_type": "pyout",
       "prompt_number": 291,
       "text": [
        "[{'cog'}, {'dog', 'log'}, {'dot', 'lot'}, {'hot'}]"
       ]
      }
     ],
     "prompt_number": 291
    },
    {
     "cell_type": "code",
     "collapsed": false,
     "input": [
      "beginEndRoute('hit','cog',set([\"hot\",\"dot\",\"dog\",\"lot\",\"log\"]))"
     ],
     "language": "python",
     "metadata": {},
     "outputs": [
      {
       "output_type": "stream",
       "stream": "stdout",
       "text": [
        "btlist: set(['hot']) endroute[i]: set(['cog'])\n",
        "etlist: set(['dog', 'log']) btlist: set(['hot'])\n",
        "btlist: set(['dot', 'lot']) endroute[i]: set(['dog', 'log'])\n",
        "etlist: set(['lot', 'dot']) btlist: set(['dot', 'lot'])\n"
       ]
      },
      {
       "metadata": {},
       "output_type": "pyout",
       "prompt_number": 292,
       "text": [
        "{'beginroute': [{'hit'}, {'hot'}, {'dot', 'lot'}],\n",
        " 'endroute': [{'cog'}, {'dog', 'log'}, {'dot', 'lot'}],\n",
        " 'outlist': [['lot'], ['dot']]}"
       ]
      }
     ],
     "prompt_number": 292
    },
    {
     "cell_type": "code",
     "collapsed": false,
     "input": [
      "re = beginEndRoute(beginWord,endWord, wordset)\n",
      "print len(re['beginroute']),len(re['endroute']),len(re['outlist'])"
     ],
     "language": "python",
     "metadata": {},
     "outputs": [
      {
       "output_type": "stream",
       "stream": "stdout",
       "text": [
        "btlist: set(['vet', 'set', 'cot', 'get', 'pet', 'cat', 'met', 'let', 'wet', 'net', 'yet', 'bet']) endroute[i]: set(['ism'])\n",
        "etlist: set(['ibm']) btlist: set(['vet', 'set', 'cot', 'get', 'pet', 'cat', 'met', 'let', 'wet', 'net', 'yet', 'bet'])\n",
        "btlist: set(['sew', 'tat', 'ned', 'mes', 'can', 'yea', 'pot', 'sgt', 'wen', 'put', 'see', 'wit', 'sec', 'per', 'yep', 'sen', 'pit', 'yew', 'web', 'pat', 'but', 'wed', 'wot', 'wei', 'pew', 'led', 'tot', 'lit', 'hot', 'pei', 'lot', 'lei', 'nev', 'got', 'pea', 'vat', 'cod', 'ger', 'meg', 'jot', 'nat', 'nut', 'leg', 'mel', 'cal', 'fat', 'mew', 'len', 'gee', 'new', 'not', 'bit', 'geo', 'eat', 'gem', 'gel', 'bat', 'coy', 'cox', 'cap', 'caw', 'bed', 'bee', 'cob', 'dot', 'cog', 'gut', 'cab', 'cad', 'com', 'col', 'coo', 'con']) endroute[i]: set(['ibm'])\n",
        "etlist: set(['ibo']) btlist: set(['sew', 'tat', 'ned', 'mes', 'can', 'yea', 'pot', 'sgt', 'wen', 'put', 'see', 'wit', 'sec', 'per', 'yep', 'sen', 'pit', 'yew', 'web', 'pat', 'but', 'wed', 'wot', 'wei', 'pew', 'led', 'tot', 'lit', 'hot', 'pei', 'lot', 'lei', 'nev', 'got', 'pea', 'vat', 'cod', 'ger', 'meg', 'jot', 'nat', 'nut', 'leg', 'mel', 'cal', 'fat', 'mew', 'len', 'gee', 'new', 'not', 'bit', 'geo', 'eat', 'gem', 'gel', 'bat', 'coy', 'cox', 'cap', 'caw', 'bed', 'bee', 'cob', 'dot', 'cog', 'gut', 'cab', 'cad', 'com', 'col', 'coo', 'con'])\n",
        "btlist:"
       ]
      },
      {
       "output_type": "stream",
       "stream": "stdout",
       "text": [
        " set(['zed', 'feb', 'fox', 'rob', 'zen', 'roy', 'goo', 'qom', 'zoo', 'gad', 'hal', 'gte', 'han', 'cup', 'jaw', 'noh', 'mug', 'jan', 'fog', 'nor', 'mil', 'bye', 'jab', 'haw', 'bin', 'fax', 'fay', 'hit', 'fob', 'dab', 'nod', 'rod', 'dan', 'mow', 'boo', 'sac', 'fan', 'mon', 'mom', 'mob', 'nov', 'now', 'fad', 'mod', 'yon', 'bar', 'tow', 'cry', 'gun', 'gum', 'pam', 'eel', 'bad', 'val', 'she', 'baa', 'ban', 'guy', 'bah', 'ten', 'map', 'ted', 'tee', 'nun', 'doe', 'sad', 'bay', 'nub', 'out', 'sue', 'bag', 'sun', 'rep', 'rev', 'gob', 'woo', 'won', 'rap', 'lug', 'woe', 'red', 'ken', 'pun', 'mad', 'keg', 'joy', 'pug', 'tut', 'zit', 'pub', 'dow', 'job', 'ian', 'joe', 'jog', 'hep', 'pup', 'rut', 'pus', 'box', 'boy', 'fit', 'yup', 'cub', 'ltd', 'bob', 'top', 'hem', 'bog', 'wig', 'sob', 'pox', 'win', 'sol', 'pop', 'son', 'pol', 'wis', 'sow', 'poi', 'soy', 'sox', 'pod', 'poe', 'lob', 'wan', 'fed', 'hew', 'van', 'pin', 'her', 'fen', 'yaw', 'wad', 'lon', 'yap', 'few', 'lop', 'ton', 'yip', 'jed', 'tom', 'toy', 'hen', 'gil', 'tog', 'tod', 'toe', 'buy', 'bur', 'bus', 'gym', 'gap', 'hut', 'gal', 'bun', 'too', 'jut', 'bum', 'ear', 'bug', 'bud', 'gos', 'bid', 'cid', 'dew', 'del', 'dem', 'den', 'doc', 'dec', 'dee', 'tap', 'san', 'tar', 'sal', 'ran', 'tax', 'pie', 'pig', 'tad', 'tag', 'tab', 'pip', 'tam', 'tan', 'tao', 'saw', 'sap', 'pap', 'lie', 'par', 'pas', 'hob', 'nag', 'paw', 'tit', 'pay', 'lin', 'nan', 'mig', 'nam', 'sic', 'far', 'nap', 'pad', 'low', 'hop', 'big', 'pal', 'sin', 'pan', 'lid', 'mas', 'maw', 'hog', 'lad', 'bib', 'lag', 'hod', 'lab', 'kit', 'ion', 'hoe', 'log', 'lap', 'man', 'don', 'liz', 'fee', 'dog', 'non', 'hon', 'god', 'ron', 'gog']) endroute[i]: set(['ibo'])\n",
        "etlist: set(['ito']) btlist: set(['zed', 'feb', 'fox', 'rob', 'zen', 'roy', 'goo', 'qom', 'zoo', 'gad', 'hal', 'gte', 'han', 'cup', 'jaw', 'noh', 'mug', 'jan', 'fog', 'nor', 'mil', 'bye', 'jab', 'haw', 'bin', 'fax', 'fay', 'hit', 'fob', 'dab', 'nod', 'rod', 'dan', 'mow', 'boo', 'sac', 'fan', 'mon', 'mom', 'mob', 'nov', 'now', 'fad', 'mod', 'yon', 'bar', 'tow', 'cry', 'gun', 'gum', 'pam', 'eel', 'bad', 'val', 'she', 'baa', 'ban', 'guy', 'bah', 'ten', 'map', 'ted', 'tee', 'nun', 'doe', 'sad', 'bay', 'nub', 'out', 'sue', 'bag', 'sun', 'rep', 'rev', 'gob', 'woo', 'won', 'rap', 'lug', 'woe', 'red', 'ken', 'pun', 'mad', 'keg', 'joy', 'pug', 'tut', 'zit', 'pub', 'dow', 'job', 'ian', 'joe', 'jog', 'hep', 'pup', 'rut', 'pus', 'box', 'boy', 'fit', 'yup', 'cub', 'ltd', 'bob', 'top', 'hem', 'bog', 'wig', 'sob', 'pox', 'win', 'sol', 'pop', 'son', 'pol', 'wis', 'sow', 'poi', 'soy', 'sox', 'pod', 'poe', 'lob', 'wan', 'fed', 'hew', 'van', 'pin', 'her', 'fen', 'yaw', 'wad', 'lon', 'yap', 'few', 'lop', 'ton', 'yip', 'jed', 'tom', 'toy', 'hen', 'gil', 'tog', 'tod', 'toe', 'buy', 'bur', 'bus', 'gym', 'gap', 'hut', 'gal', 'bun', 'too', 'jut', 'bum', 'ear', 'bug', 'bud', 'gos', 'bid', 'cid', 'dew', 'del', 'dem', 'den', 'doc', 'dec', 'dee', 'tap', 'san', 'tar', 'sal', 'ran', 'tax', 'pie', 'pig', 'tad', 'tag', 'tab', 'pip', 'tam', 'tan', 'tao', 'saw', 'sap', 'pap', 'lie', 'par', 'pas', 'hob', 'nag', 'paw', 'tit', 'pay', 'lin', 'nan', 'mig', 'nam', 'sic', 'far', 'nap', 'pad', 'low', 'hop', 'big', 'pal', 'sin', 'pan', 'lid', 'mas', 'maw', 'hog', 'lad', 'bib', 'lag', 'hod', 'lab', 'kit', 'ion', 'hoe', 'log', 'lap', 'man', 'don', 'liz', 'fee', 'dog', 'non', 'hon', 'god', 'ron', 'gog'])\n",
        "btlist:"
       ]
      },
      {
       "output_type": "stream",
       "stream": "stdout",
       "text": [
        " set(['rte', 'six', 'gyp', 'row', 'hah', 'jig', 'jib', 'ham', 'aug', 'jay', 'fix', 'vie', 'jar', 'hag', 'fib', 'hay', 'jam', 'fig', 'zip', 'fie', 'jag', 'has', 'fin', 'oct', 'wry', 'hip', 'his', 'mgm', 'hid', 'hie', 'dye', 'him', 'moe', 'dim', 'din', 'did', 'shy', 'dig', 'try', 'die', 'dip', 'two', 'dis', 'tex', 'lao', 'our', 'rex', 'fop', 'sub', 'for', 'sum', 'sui', 'foe', 'sup', 'mum', 'ref', 'tux', 'fir', 'kip', 'rum', 'rub', 'ply', 'rue', 'tun', 'tub', 'tug', 'ate', 'ell', 'bow', 'wag', 'yum', 'boa', 'kin', 'vic', 'spy', 'hex', 'brr', 'hey', 'sop', 'sky', 'gig', 'eye', 'dun', 'aye', 'wac', 'due', 'dug', 'yam', 'way', 'wax', 'gin', 'fry', 'fez', 'war', 'fey', 'hue', 'hug', 'yak', 'gay', 'hum', 'hun', 'gas', 'hui', 'hus', 'gag', 'fur', 'sly', 'err', 'was', 'ail', 'sax', 'fun', 'aid', 'sty', 'opt', 'sam', 'ram', 'sag', 'rip', 'lye', 'inn', 'vow', 'hub', 'rig', 'rid', 'rib', 'ray', 'sis', 'sip', 'zoe', 'min', 'mia', 'pry', 'rye', 'mid', 'mix', 'tin', 'oar', 'sid', 'tie', 'you', 'mir', 'tia', 'day', 'pyx', 'oil', 'nil', 'may', 'max', 'who', 'mac', 'lax', 'lay', 'mai', 'kay', 'maj', 'mao', 'kid', 'thy', 'tho', 'oft', 'wyo', 'luz']) endroute[i]: set(['ito'])\n",
        "etlist: set(['its']) btlist: set(['rte', 'six', 'gyp', 'row', 'hah', 'jig', 'jib', 'ham', 'aug', 'jay', 'fix', 'vie', 'jar', 'hag', 'fib', 'hay', 'jam', 'fig', 'zip', 'fie', 'jag', 'has', 'fin', 'oct', 'wry', 'hip', 'his', 'mgm', 'hid', 'hie', 'dye', 'him', 'moe', 'dim', 'din', 'did', 'shy', 'dig', 'try', 'die', 'dip', 'two', 'dis', 'tex', 'lao', 'our', 'rex', 'fop', 'sub', 'for', 'sum', 'sui', 'foe', 'sup', 'mum', 'ref', 'tux', 'fir', 'kip', 'rum', 'rub', 'ply', 'rue', 'tun', 'tub', 'tug', 'ate', 'ell', 'bow', 'wag', 'yum', 'boa', 'kin', 'vic', 'spy', 'hex', 'brr', 'hey', 'sop', 'sky', 'gig', 'eye', 'dun', 'aye', 'wac', 'due', 'dug', 'yam', 'way', 'wax', 'gin', 'fry', 'fez', 'war', 'fey', 'hue', 'hug', 'yak', 'gay', 'hum', 'hun', 'gas', 'hui', 'hus', 'gag', 'fur', 'sly', 'err', 'was', 'ail', 'sax', 'fun', 'aid', 'sty', 'opt', 'sam', 'ram', 'sag', 'rip', 'lye', 'inn', 'vow', 'hub', 'rig', 'rid', 'rib', 'ray', 'sis', 'sip', 'zoe', 'min', 'mia', 'pry', 'rye', 'mid', 'mix', 'tin', 'oar', 'sid', 'tie', 'you', 'mir', 'tia', 'day', 'pyx', 'oil', 'nil', 'may', 'max', 'who', 'mac', 'lax', 'lay', 'mai', 'kay', 'maj', 'mao', 'kid', 'thy', 'tho', 'oft', 'wyo', 'luz'])\n",
        "btlist: set(['and', 'owl', 'all', 'via', 'oak', 'ann', 'ale', 'lyx', 'vim', 'rio', 'rim', 'are', 'ind', 'ave', 'ina', 'ape', 'duh', 'oaf', 'abe', 'elm', 'auk', 'jim', 'elf', 'ewe', 'aft', 'ski', 'pro', 'era', 'mci', 'act', 'nix', 'awl', 'bmw', 'awe', 'ins', 'oho', 'why', 'stu', 'off', 'ace', 'age', 'duo', 'eve', 'air', 'aim', 'ere', 'erg', 'dix', 'ats', 'axe', 'ill']) endroute[i]: set(['its'])\n",
        "etlist: set(['ins', 'ats', 'ifs']) btlist: set(['and', 'owl', 'all', 'via', 'oak', 'ann', 'ale', 'lyx', 'vim', 'rio', 'rim', 'are', 'ind', 'ave', 'ina', 'ape', 'duh', 'oaf', 'abe', 'elm', 'auk', 'jim', 'elf', 'ewe', 'aft', 'ski', 'pro', 'era', 'mci', 'act', 'nix', 'awl', 'bmw', 'awe', 'ins', 'oho', 'why', 'stu', 'off', 'ace', 'age', 'duo', 'eve', 'air', 'aim', 'ere', 'erg', 'dix', 'ats', 'axe', 'ill'])\n",
        "6 6 2\n"
       ]
      }
     ],
     "prompt_number": 315
    },
    {
     "cell_type": "code",
     "collapsed": false,
     "input": [
      "buildBeginRoute(re['beginroute'][:-1], re['outlist'])"
     ],
     "language": "python",
     "metadata": {},
     "outputs": [
      {
       "output_type": "stream",
       "stream": "stdout",
       "text": [
        "---------------------------------\n",
        "[set(['cet']), set(['vet', 'set', 'cot', 'get', 'pet', 'cat', 'met', 'let', 'wet', 'net', 'yet', 'bet']), set(['sew', 'tat', 'ned', 'mes', 'can', 'yea', 'pot', 'sgt', 'wen', 'put', 'see', 'wit', 'sec', 'per', 'yep', 'sen', 'pit', 'yew', 'web', 'pat', 'but', 'wed', 'wot', 'wei', 'pew', 'led', 'tot', 'lit', 'hot', 'pei', 'lot', 'lei', 'nev', 'got', 'pea', 'vat', 'cod', 'ger', 'meg', 'jot', 'nat', 'nut', 'leg', 'mel', 'cal', 'fat', 'mew', 'len', 'gee', 'new', 'not', 'bit', 'geo', 'eat', 'gem', 'gel', 'bat', 'coy', 'cox', 'cap', 'caw', 'bed', 'bee', 'cob', 'dot', 'cog', 'gut', 'cab', 'cad', 'com', 'col', 'coo', 'con']), set(['zed', 'feb', 'fox', 'rob', 'zen', 'roy', 'goo', 'qom', 'zoo', 'gad', 'hal', 'gte', 'han', 'cup', 'jaw', 'noh', 'mug', 'jan', 'fog', 'nor', 'mil', 'bye', 'jab', 'haw', 'bin', 'fax', 'fay', 'hit', 'fob', 'dab', 'nod', 'rod', 'dan', 'mow', 'boo', 'sac', 'fan', 'mon', 'mom', 'mob', 'nov', 'now', 'fad', 'mod', 'yon', 'bar', 'tow', 'cry', 'gun', 'gum', 'pam', 'eel', 'bad', 'val', 'she', 'baa', 'ban', 'guy', 'bah', 'ten', 'map', 'ted', 'tee', 'nun', 'doe', 'sad', 'bay', 'nub', 'out', 'sue', 'bag', 'sun', 'rep', 'rev', 'gob', 'woo', 'won', 'rap', 'lug', 'woe', 'red', 'ken', 'pun', 'mad', 'keg', 'joy', 'pug', 'tut', 'zit', 'pub', 'dow', 'job', 'ian', 'joe', 'jog', 'hep', 'pup', 'rut', 'pus', 'box', 'boy', 'fit', 'yup', 'cub', 'ltd', 'bob', 'top', 'hem', 'bog', 'wig', 'sob', 'pox', 'win', 'sol', 'pop', 'son', 'pol', 'wis', 'sow', 'poi', 'soy', 'sox', 'pod', 'poe', 'lob', 'wan', 'fed', 'hew', 'van', 'pin', 'her', 'fen', 'yaw', 'wad', 'lon', 'yap', 'few', 'lop', 'ton', 'yip', 'jed', 'tom', 'toy', 'hen', 'gil', 'tog', 'tod', 'toe', 'buy', 'bur', 'bus', 'gym', 'gap', 'hut', 'gal', 'bun', 'too', 'jut', 'bum', 'ear', 'bug', 'bud', 'gos', 'bid', 'cid', 'dew', 'del', 'dem', 'den', 'doc', 'dec', 'dee', 'tap', 'san', 'tar', 'sal', 'ran', 'tax', 'pie', 'pig', 'tad', 'tag', 'tab', 'pip', 'tam', 'tan', 'tao', 'saw', 'sap', 'pap', 'lie', 'par', 'pas', 'hob', 'nag', 'paw', 'tit', 'pay', 'lin', 'nan', 'mig', 'nam', 'sic', 'far', 'nap', 'pad', 'low', 'hop', 'big', 'pal', 'sin', 'pan', 'lid', 'mas', 'maw', 'hog', 'lad', 'bib', 'lag', 'hod', 'lab', 'kit', 'ion', 'hoe', 'log', 'lap', 'man', 'don', 'liz', 'fee', 'dog', 'non', 'hon', 'god', 'ron', 'gog']), set(['rte', 'six', 'gyp', 'row', 'hah', 'jig', 'jib', 'ham', 'aug', 'jay', 'fix', 'vie', 'jar', 'hag', 'fib', 'hay', 'jam', 'fig', 'zip', 'fie', 'jag', 'has', 'fin', 'oct', 'wry', 'hip', 'his', 'mgm', 'hid', 'hie', 'dye', 'him', 'moe', 'dim', 'din', 'did', 'shy', 'dig', 'try', 'die', 'dip', 'two', 'dis', 'tex', 'lao', 'our', 'rex', 'fop', 'sub', 'for', 'sum', 'sui', 'foe', 'sup', 'mum', 'ref', 'tux', 'fir', 'kip', 'rum', 'rub', 'ply', 'rue', 'tun', 'tub', 'tug', 'ate', 'ell', 'bow', 'wag', 'yum', 'boa', 'kin', 'vic', 'spy', 'hex', 'brr', 'hey', 'sop', 'sky', 'gig', 'eye', 'dun', 'aye', 'wac', 'due', 'dug', 'yam', 'way', 'wax', 'gin', 'fry', 'fez', 'war', 'fey', 'hue', 'hug', 'yak', 'gay', 'hum', 'hun', 'gas', 'hui', 'hus', 'gag', 'fur', 'sly', 'err', 'was', 'ail', 'sax', 'fun', 'aid', 'sty', 'opt', 'sam', 'ram', 'sag', 'rip', 'lye', 'inn', 'vow', 'hub', 'rig', 'rid', 'rib', 'ray', 'sis', 'sip', 'zoe', 'min', 'mia', 'pry', 'rye', 'mid', 'mix', 'tin', 'oar', 'sid', 'tie', 'you', 'mir', 'tia', 'day', 'pyx', 'oil', 'nil', 'may', 'max', 'who', 'mac', 'lax', 'lay', 'mai', 'kay', 'maj', 'mao', 'kid', 'thy', 'tho', 'oft', 'wyo', 'luz'])]\n",
        "5\n",
        "[['ins', 'inn'], ['ats', 'ate']]\n",
        "---------------------------------\n",
        "[set(['cet']), set(['vet', 'set', 'cot', 'get', 'pet', 'cat', 'met', 'let', 'wet', 'net', 'yet', 'bet']), set(['sew', 'tat', 'ned', 'mes', 'can', 'yea', 'pot', 'sgt', 'wen', 'put', 'see', 'wit', 'sec', 'per', 'yep', 'sen', 'pit', 'yew', 'web', 'pat', 'but', 'wed', 'wot', 'wei', 'pew', 'led', 'tot', 'lit', 'hot', 'pei', 'lot', 'lei', 'nev', 'got', 'pea', 'vat', 'cod', 'ger', 'meg', 'jot', 'nat', 'nut', 'leg', 'mel', 'cal', 'fat', 'mew', 'len', 'gee', 'new', 'not', 'bit', 'geo', 'eat', 'gem', 'gel', 'bat', 'coy', 'cox', 'cap', 'caw', 'bed', 'bee', 'cob', 'dot', 'cog', 'gut', 'cab', 'cad', 'com', 'col', 'coo', 'con']), set(['zed', 'feb', 'fox', 'rob', 'zen', 'roy', 'goo', 'qom', 'zoo', 'gad', 'hal', 'gte', 'han', 'cup', 'jaw', 'noh', 'mug', 'jan', 'fog', 'nor', 'mil', 'bye', 'jab', 'haw', 'bin', 'fax', 'fay', 'hit', 'fob', 'dab', 'nod', 'rod', 'dan', 'mow', 'boo', 'sac', 'fan', 'mon', 'mom', 'mob', 'nov', 'now', 'fad', 'mod', 'yon', 'bar', 'tow', 'cry', 'gun', 'gum', 'pam', 'eel', 'bad', 'val', 'she', 'baa', 'ban', 'guy', 'bah', 'ten', 'map', 'ted', 'tee', 'nun', 'doe', 'sad', 'bay', 'nub', 'out', 'sue', 'bag', 'sun', 'rep', 'rev', 'gob', 'woo', 'won', 'rap', 'lug', 'woe', 'red', 'ken', 'pun', 'mad', 'keg', 'joy', 'pug', 'tut', 'zit', 'pub', 'dow', 'job', 'ian', 'joe', 'jog', 'hep', 'pup', 'rut', 'pus', 'box', 'boy', 'fit', 'yup', 'cub', 'ltd', 'bob', 'top', 'hem', 'bog', 'wig', 'sob', 'pox', 'win', 'sol', 'pop', 'son', 'pol', 'wis', 'sow', 'poi', 'soy', 'sox', 'pod', 'poe', 'lob', 'wan', 'fed', 'hew', 'van', 'pin', 'her', 'fen', 'yaw', 'wad', 'lon', 'yap', 'few', 'lop', 'ton', 'yip', 'jed', 'tom', 'toy', 'hen', 'gil', 'tog', 'tod', 'toe', 'buy', 'bur', 'bus', 'gym', 'gap', 'hut', 'gal', 'bun', 'too', 'jut', 'bum', 'ear', 'bug', 'bud', 'gos', 'bid', 'cid', 'dew', 'del', 'dem', 'den', 'doc', 'dec', 'dee', 'tap', 'san', 'tar', 'sal', 'ran', 'tax', 'pie', 'pig', 'tad', 'tag', 'tab', 'pip', 'tam', 'tan', 'tao', 'saw', 'sap', 'pap', 'lie', 'par', 'pas', 'hob', 'nag', 'paw', 'tit', 'pay', 'lin', 'nan', 'mig', 'nam', 'sic', 'far', 'nap', 'pad', 'low', 'hop', 'big', 'pal', 'sin', 'pan', 'lid', 'mas', 'maw', 'hog', 'lad', 'bib', 'lag', 'hod', 'lab', 'kit', 'ion', 'hoe', 'log', 'lap', 'man', 'don', 'liz', 'fee', 'dog', 'non', 'hon', 'god', 'ron', 'gog'])]\n",
        "4\n",
        "[['ins', 'inn', 'ian'], ['ins', 'inn', 'ion'], ['ats', 'ate', 'gte']]\n",
        "---------------------------------\n",
        "[set(['cet']), set(['vet', 'set', 'cot', 'get', 'pet', 'cat', 'met', 'let', 'wet', 'net', 'yet', 'bet']), set(['sew', 'tat', 'ned', 'mes', 'can', 'yea', 'pot', 'sgt', 'wen', 'put', 'see', 'wit', 'sec', 'per', 'yep', 'sen', 'pit', 'yew', 'web', 'pat', 'but', 'wed', 'wot', 'wei', 'pew', 'led', 'tot', 'lit', 'hot', 'pei', 'lot', 'lei', 'nev', 'got', 'pea', 'vat', 'cod', 'ger', 'meg', 'jot', 'nat', 'nut', 'leg', 'mel', 'cal', 'fat', 'mew', 'len', 'gee', 'new', 'not', 'bit', 'geo', 'eat', 'gem', 'gel', 'bat', 'coy', 'cox', 'cap', 'caw', 'bed', 'bee', 'cob', 'dot', 'cog', 'gut', 'cab', 'cad', 'com', 'col', 'coo', 'con'])]\n",
        "3\n",
        "[['ins', 'inn', 'ian', 'can'], ['ins', 'inn', 'ion', 'con'], ['ats', 'ate', 'gte', 'gee']]\n",
        "---------------------------------\n",
        "[set(['cet']), set(['vet', 'set', 'cot', 'get', 'pet', 'cat', 'met', 'let', 'wet', 'net', 'yet', 'bet'])]\n",
        "2\n",
        "[['ins', 'inn', 'ian', 'can', 'cat'], ['ins', 'inn', 'ion', 'con', 'cot'], ['ats', 'ate', 'gte', 'gee', 'get']]\n",
        "---------------------------------\n",
        "[set(['cet'])]\n",
        "1\n",
        "[['ins', 'inn', 'ian', 'can', 'cat', 'cet'], ['ins', 'inn', 'ion', 'con', 'cot', 'cet'], ['ats', 'ate', 'gte', 'gee', 'get', 'cet']]\n",
        "<=1\n",
        "[['ins', 'inn', 'ian', 'can', 'cat', 'cet'], ['ins', 'inn', 'ion', 'con', 'cot', 'cet'], ['ats', 'ate', 'gte', 'gee', 'get', 'cet']]\n"
       ]
      }
     ],
     "prompt_number": 316
    },
    {
     "cell_type": "code",
     "collapsed": false,
     "input": [
      "re = buildBeginRoute([{'hit'}, {'hot'}], [['lot'], ['dot']])\n",
      "print re"
     ],
     "language": "python",
     "metadata": {},
     "outputs": [
      {
       "output_type": "stream",
       "stream": "stdout",
       "text": [
        "---------------------------------\n",
        "[set(['hit']), set(['hot'])]\n",
        "2\n",
        "[['lot', 'hot'], ['dot', 'hot']]\n",
        "---------------------------------\n",
        "[set(['hit'])]\n",
        "1\n",
        "[['lot', 'hot', 'hit'], ['dot', 'hot', 'hit']]\n",
        "<=1\n",
        "[['lot', 'hot', 'hit'], ['dot', 'hot', 'hit']]\n",
        "None\n"
       ]
      }
     ],
     "prompt_number": 320
    },
    {
     "cell_type": "code",
     "collapsed": false,
     "input": [
      "re = buildEndRoute([{'cog'}, {'dog', 'log'}, {'dot', 'lot'}], [['lot'], ['dot']])\n",
      "print re"
     ],
     "language": "python",
     "metadata": {},
     "outputs": [
      {
       "output_type": "stream",
       "stream": "stdout",
       "text": [
        "---------------------------------\n",
        "[set(['cog']), set(['log', 'dog']), set(['dot', 'lot'])]\n",
        "3\n",
        "[['lot', 'dot'], ['dot', 'lot']]\n",
        "---------------------------------\n",
        "[set(['cog']), set(['log', 'dog'])]\n",
        "2\n",
        "[['lot', 'dot', 'dog'], ['dot', 'lot', 'log']]\n",
        "---------------------------------\n",
        "[set(['cog'])]\n",
        "1\n",
        "[['lot', 'dot', 'dog', 'cog'], ['dot', 'lot', 'log', 'cog']]\n",
        "<=1\n",
        "[['lot', 'dot', 'dog', 'cog'], ['dot', 'lot', 'log', 'cog']]\n",
        "None\n"
       ]
      }
     ],
     "prompt_number": 322
    },
    {
     "cell_type": "code",
     "collapsed": false,
     "input": [],
     "language": "python",
     "metadata": {},
     "outputs": [],
     "prompt_number": 322
    },
    {
     "cell_type": "code",
     "collapsed": false,
     "input": [],
     "language": "python",
     "metadata": {},
     "outputs": [],
     "prompt_number": 322
    },
    {
     "cell_type": "heading",
     "level": 2,
     "metadata": {},
     "source": [
      "the code"
     ]
    },
    {
     "cell_type": "code",
     "collapsed": false,
     "input": [
      "class Solution(object):\n",
      "\n",
      "    def findLadders(self, beginWord, endWord, wordlist):\n",
      "        \"\"\"\n",
      "        :type beginWord: str\n",
      "        :type endWord: str\n",
      "        :type wordlist: Set[str]\n",
      "        :rtype: List[List[int]]\n",
      "        \"\"\"\n",
      "        if len(beginWord) <=1 or self.fitWord(beginWord,endWord):\n",
      "            return [[beginWord,endWord]]\n",
      "        beginroute = [set([beginWord])]\n",
      "        endroute = [set([endWord])]\n",
      "        bwordlist = wordlist\n",
      "        ewordlist = wordlist\n",
      "        outlist = []\n",
      "        try:\n",
      "            bwordlist.remove(beginWord)\n",
      "        except:\n",
      "            pass\n",
      "        try:\n",
      "            ewordlist.remove(endWord)\n",
      "        except:\n",
      "            pass\n",
      "        i = 0\n",
      "        while len(bwordlist) > 0:\n",
      "            btlist = set()\n",
      "            for br in beginroute[i]:\n",
      "                for w in bwordlist:\n",
      "                    if self.fitWord(br,w):\n",
      "                        btlist.add(w)\n",
      "            if len(btlist) == 0:\n",
      "                break\n",
      "            beginroute.append(btlist)\n",
      "            bwordlist = bwordlist - btlist\n",
      "            outlist = [b for b in btlist if b in endroute[i]]\n",
      "            if outlist:\n",
      "                break\n",
      "\n",
      "#             ewordlist = bwordlist\n",
      "            \n",
      "            etlist = set()\n",
      "            for br in endroute[i]:\n",
      "                for w in ewordlist:\n",
      "                    if self.fitWord(br,w):\n",
      "                        etlist.add(w)\n",
      "            if len(etlist) == 0:\n",
      "                break\n",
      "            endroute.append(etlist)\n",
      "            ewordlist = ewordlist - etlist\n",
      "            outlist = [e for e in etlist if e in btlist]\n",
      "            if outlist:\n",
      "                break\n",
      "            \n",
      "#             bwordlist = ewordlist\n",
      "\n",
      "            i += 1\n",
      "        startlist = [[ot] for ot in outlist]\n",
      "\n",
      "        self.buildBeginRoute(beginroute[:-1],startlist[:])\n",
      "        self.buildEndRoute(endroute[:-1],startlist[:])\n",
      "        \n",
      "        resultlist = []\n",
      "        for bl in self.boutlist:\n",
      "            for el in self.eoutlist:\n",
      "                if bl[0] == el[0]:\n",
      "                    resultlist.append(bl[::-1][:-1] + el)\n",
      "        return resultlist\n",
      "        \n",
      "        \n",
      "    def buildBeginRoute(self, beginroute,startlist):\n",
      "        boutlist = []\n",
      "        for st in startlist:\n",
      "            boutlist += [st[:]+[w] for w in beginroute[-1] if self.fitWord(w,st[-1])]\n",
      "        if len(beginroute) <= 1:\n",
      "            self.boutlist = boutlist\n",
      "        else:\n",
      "            self.buildBeginRoute(beginroute[:-1],boutlist)\n",
      "\n",
      "    def buildEndRoute(self,endroute,startlist):\n",
      "        eoutlist = []\n",
      "        for st in startlist:\n",
      "            eoutlist += [st[:]+[w] for w in endroute[-1] if self.fitWord(w,st[-1])]\n",
      "        if len(endroute) <= 1:\n",
      "            self.eoutlist = eoutlist\n",
      "        else:\n",
      "            self.buildEndRoute(endroute[:-1],eoutlist)\n",
      "    def fitWord(self, word1, word2):\n",
      "        if len(word1) <= 0:\n",
      "            if word1 == word2:\n",
      "                return True\n",
      "        else:\n",
      "            for pos in range(len(word1)):\n",
      "                if word1[pos] == word2[pos]:\n",
      "                    continue\n",
      "                elif word1[:pos] == word2[:pos] and word1[pos+1:] == word2[pos+1:]:\n",
      "                    return True\n",
      "                else:\n",
      "                    break\n",
      "        return False"
     ],
     "language": "python",
     "metadata": {},
     "outputs": [],
     "prompt_number": 416
    },
    {
     "cell_type": "code",
     "collapsed": false,
     "input": [
      "test2 = Solution2()"
     ],
     "language": "python",
     "metadata": {},
     "outputs": [],
     "prompt_number": 417
    },
    {
     "cell_type": "code",
     "collapsed": false,
     "input": [
      "test2.findLadders('hit','cog',set([\"hot\",\"dot\",\"dog\",\"lot\",\"log\"]))"
     ],
     "language": "python",
     "metadata": {},
     "outputs": [
      {
       "metadata": {},
       "output_type": "pyout",
       "prompt_number": 418,
       "text": [
        "[['hit', 'hot', 'lot', 'log', 'cog'], ['hit', 'hot', 'dot', 'dog', 'cog']]"
       ]
      }
     ],
     "prompt_number": 418
    },
    {
     "cell_type": "code",
     "collapsed": false,
     "input": [
      "test2.findLadders('h','c',set([\"h\",\"t\",\"o\",\"l\",\"c\"]))"
     ],
     "language": "python",
     "metadata": {},
     "outputs": [
      {
       "metadata": {},
       "output_type": "pyout",
       "prompt_number": 419,
       "text": [
        "[['h', 'c']]"
       ]
      }
     ],
     "prompt_number": 419
    },
    {
     "cell_type": "code",
     "collapsed": false,
     "input": [
      "%timeit test2.findLadders('hit','cog',set([\"hot\",\"dot\",\"dog\",\"lot\",\"log\"]))"
     ],
     "language": "python",
     "metadata": {},
     "outputs": [
      {
       "output_type": "stream",
       "stream": "stdout",
       "text": [
        "1000 loops, best of 3: 178 \u00b5s per loop\n"
       ]
      }
     ],
     "prompt_number": 420
    },
    {
     "cell_type": "code",
     "collapsed": false,
     "input": [
      "beginWord = \"cet\"\n",
      "endWord = \"ism\"\n",
      "wordlist = [\"kid\",\"tag\",\"pup\",\"ail\",\"tun\",\"woo\",\"erg\",\"luz\",\"brr\",\"gay\",\"sip\",\"kay\",\"per\",\"val\",\"mes\",\"ohs\",\"now\",\"boa\",\"cet\",\"pal\",\"bar\",\"die\",\"war\",\"hay\",\"eco\",\"pub\",\"lob\",\"rue\",\"fry\",\"lit\",\"rex\",\"jan\",\"cot\",\"bid\",\"ali\",\"pay\",\"col\",\"gum\",\"ger\",\"row\",\"won\",\"dan\",\"rum\",\"fad\",\"tut\",\"sag\",\"yip\",\"sui\",\"ark\",\"has\",\"zip\",\"fez\",\"own\",\"ump\",\"dis\",\"ads\",\"max\",\"jaw\",\"out\",\"btu\",\"ana\",\"gap\",\"cry\",\"led\",\"abe\",\"box\",\"ore\",\"pig\",\"fie\",\"toy\",\"fat\",\"cal\",\"lie\",\"noh\",\"sew\",\"ono\",\"tam\",\"flu\",\"mgm\",\"ply\",\"awe\",\"pry\",\"tit\",\"tie\",\"yet\",\"too\",\"tax\",\"jim\",\"san\",\"pan\",\"map\",\"ski\",\"ova\",\"wed\",\"non\",\"wac\",\"nut\",\"why\",\"bye\",\"lye\",\"oct\",\"old\",\"fin\",\"feb\",\"chi\",\"sap\",\"owl\",\"log\",\"tod\",\"dot\",\"bow\",\"fob\",\"for\",\"joe\",\"ivy\",\"fan\",\"age\",\"fax\",\"hip\",\"jib\",\"mel\",\"hus\",\"sob\",\"ifs\",\"tab\",\"ara\",\"dab\",\"jag\",\"jar\",\"arm\",\"lot\",\"tom\",\"sax\",\"tex\",\"yum\",\"pei\",\"wen\",\"wry\",\"ire\",\"irk\",\"far\",\"mew\",\"wit\",\"doe\",\"gas\",\"rte\",\"ian\",\"pot\",\"ask\",\"wag\",\"hag\",\"amy\",\"nag\",\"ron\",\"soy\",\"gin\",\"don\",\"tug\",\"fay\",\"vic\",\"boo\",\"nam\",\"ave\",\"buy\",\"sop\",\"but\",\"orb\",\"fen\",\"paw\",\"his\",\"sub\",\"bob\",\"yea\",\"oft\",\"inn\",\"rod\",\"yam\",\"pew\",\"web\",\"hod\",\"hun\",\"gyp\",\"wei\",\"wis\",\"rob\",\"gad\",\"pie\",\"mon\",\"dog\",\"bib\",\"rub\",\"ere\",\"dig\",\"era\",\"cat\",\"fox\",\"bee\",\"mod\",\"day\",\"apr\",\"vie\",\"nev\",\"jam\",\"pam\",\"new\",\"aye\",\"ani\",\"and\",\"ibm\",\"yap\",\"can\",\"pyx\",\"tar\",\"kin\",\"fog\",\"hum\",\"pip\",\"cup\",\"dye\",\"lyx\",\"jog\",\"nun\",\"par\",\"wan\",\"fey\",\"bus\",\"oak\",\"bad\",\"ats\",\"set\",\"qom\",\"vat\",\"eat\",\"pus\",\"rev\",\"axe\",\"ion\",\"six\",\"ila\",\"lao\",\"mom\",\"mas\",\"pro\",\"few\",\"opt\",\"poe\",\"art\",\"ash\",\"oar\",\"cap\",\"lop\",\"may\",\"shy\",\"rid\",\"bat\",\"sum\",\"rim\",\"fee\",\"bmw\",\"sky\",\"maj\",\"hue\",\"thy\",\"ava\",\"rap\",\"den\",\"fla\",\"auk\",\"cox\",\"ibo\",\"hey\",\"saw\",\"vim\",\"sec\",\"ltd\",\"you\",\"its\",\"tat\",\"dew\",\"eva\",\"tog\",\"ram\",\"let\",\"see\",\"zit\",\"maw\",\"nix\",\"ate\",\"gig\",\"rep\",\"owe\",\"ind\",\"hog\",\"eve\",\"sam\",\"zoo\",\"any\",\"dow\",\"cod\",\"bed\",\"vet\",\"ham\",\"sis\",\"hex\",\"via\",\"fir\",\"nod\",\"mao\",\"aug\",\"mum\",\"hoe\",\"bah\",\"hal\",\"keg\",\"hew\",\"zed\",\"tow\",\"gog\",\"ass\",\"dem\",\"who\",\"bet\",\"gos\",\"son\",\"ear\",\"spy\",\"kit\",\"boy\",\"due\",\"sen\",\"oaf\",\"mix\",\"hep\",\"fur\",\"ada\",\"bin\",\"nil\",\"mia\",\"ewe\",\"hit\",\"fix\",\"sad\",\"rib\",\"eye\",\"hop\",\"haw\",\"wax\",\"mid\",\"tad\",\"ken\",\"wad\",\"rye\",\"pap\",\"bog\",\"gut\",\"ito\",\"woe\",\"our\",\"ado\",\"sin\",\"mad\",\"ray\",\"hon\",\"roy\",\"dip\",\"hen\",\"iva\",\"lug\",\"asp\",\"hui\",\"yak\",\"bay\",\"poi\",\"yep\",\"bun\",\"try\",\"lad\",\"elm\",\"nat\",\"wyo\",\"gym\",\"dug\",\"toe\",\"dee\",\"wig\",\"sly\",\"rip\",\"geo\",\"cog\",\"pas\",\"zen\",\"odd\",\"nan\",\"lay\",\"pod\",\"fit\",\"hem\",\"joy\",\"bum\",\"rio\",\"yon\",\"dec\",\"leg\",\"put\",\"sue\",\"dim\",\"pet\",\"yaw\",\"nub\",\"bit\",\"bur\",\"sid\",\"sun\",\"oil\",\"red\",\"doc\",\"moe\",\"caw\",\"eel\",\"dix\",\"cub\",\"end\",\"gem\",\"off\",\"yew\",\"hug\",\"pop\",\"tub\",\"sgt\",\"lid\",\"pun\",\"ton\",\"sol\",\"din\",\"yup\",\"jab\",\"pea\",\"bug\",\"gag\",\"mil\",\"jig\",\"hub\",\"low\",\"did\",\"tin\",\"get\",\"gte\",\"sox\",\"lei\",\"mig\",\"fig\",\"lon\",\"use\",\"ban\",\"flo\",\"nov\",\"jut\",\"bag\",\"mir\",\"sty\",\"lap\",\"two\",\"ins\",\"con\",\"ant\",\"net\",\"tux\",\"ode\",\"stu\",\"mug\",\"cad\",\"nap\",\"gun\",\"fop\",\"tot\",\"sow\",\"sal\",\"sic\",\"ted\",\"wot\",\"del\",\"imp\",\"cob\",\"way\",\"ann\",\"tan\",\"mci\",\"job\",\"wet\",\"ism\",\"err\",\"him\",\"all\",\"pad\",\"hah\",\"hie\",\"aim\",\"ike\",\"jed\",\"ego\",\"mac\",\"baa\",\"min\",\"com\",\"ill\",\"was\",\"cab\",\"ago\",\"ina\",\"big\",\"ilk\",\"gal\",\"tap\",\"duh\",\"ola\",\"ran\",\"lab\",\"top\",\"gob\",\"hot\",\"ora\",\"tia\",\"kip\",\"han\",\"met\",\"hut\",\"she\",\"sac\",\"fed\",\"goo\",\"tee\",\"ell\",\"not\",\"act\",\"gil\",\"rut\",\"ala\",\"ape\",\"rig\",\"cid\",\"god\",\"duo\",\"lin\",\"aid\",\"gel\",\"awl\",\"lag\",\"elf\",\"liz\",\"ref\",\"aha\",\"fib\",\"oho\",\"tho\",\"her\",\"nor\",\"ace\",\"adz\",\"fun\",\"ned\",\"coo\",\"win\",\"tao\",\"coy\",\"van\",\"man\",\"pit\",\"guy\",\"foe\",\"hid\",\"mai\",\"sup\",\"jay\",\"hob\",\"mow\",\"jot\",\"are\",\"pol\",\"arc\",\"lax\",\"aft\",\"alb\",\"len\",\"air\",\"pug\",\"pox\",\"vow\",\"got\",\"meg\",\"zoe\",\"amp\",\"ale\",\"bud\",\"gee\",\"pin\",\"dun\",\"pat\",\"ten\",\"mob\"]"
     ],
     "language": "python",
     "metadata": {},
     "outputs": [],
     "prompt_number": 421
    },
    {
     "cell_type": "code",
     "collapsed": false,
     "input": [
      "wordset = set(wordlist)"
     ],
     "language": "python",
     "metadata": {},
     "outputs": [],
     "prompt_number": 422
    },
    {
     "cell_type": "code",
     "collapsed": false,
     "input": [
      "test2.findLadders(beginWord,endWord,wordset)"
     ],
     "language": "python",
     "metadata": {},
     "outputs": [
      {
       "metadata": {},
       "output_type": "pyout",
       "prompt_number": 423,
       "text": [
        "[['cet', 'cat', 'can', 'ian', 'inn', 'ins', 'its', 'ito', 'ibo', 'ibm', 'ism'],\n",
        " ['cet', 'cot', 'con', 'ion', 'inn', 'ins', 'its', 'ito', 'ibo', 'ibm', 'ism'],\n",
        " ['cet', 'get', 'gee', 'gte', 'ate', 'ats', 'its', 'ito', 'ibo', 'ibm', 'ism']]"
       ]
      }
     ],
     "prompt_number": 423
    },
    {
     "cell_type": "code",
     "collapsed": false,
     "input": [
      "beginWord = \"sand\"\n",
      "endWord = \"acne\"\n",
      "wordlist = [\"slit\",\"bunk\",\"wars\",\"ping\",\"viva\",\"wynn\",\"wows\",\"irks\",\"gang\",\"pool\",\"mock\",\"fort\",\"heel\",\"send\",\"ship\",\"cols\",\"alec\",\"foal\",\"nabs\",\"gaze\",\"giza\",\"mays\",\"dogs\",\"karo\",\"cums\",\"jedi\",\"webb\",\"lend\",\"mire\",\"jose\",\"catt\",\"grow\",\"toss\",\"magi\",\"leis\",\"bead\",\"kara\",\"hoof\",\"than\",\"ires\",\"baas\",\"vein\",\"kari\",\"riga\",\"oars\",\"gags\",\"thug\",\"yawn\",\"wive\",\"view\",\"germ\",\"flab\",\"july\",\"tuck\",\"rory\",\"bean\",\"feed\",\"rhee\",\"jeez\",\"gobs\",\"lath\",\"desk\",\"yoko\",\"cute\",\"zeus\",\"thus\",\"dims\",\"link\",\"dirt\",\"mara\",\"disc\",\"limy\",\"lewd\",\"maud\",\"duly\",\"elsa\",\"hart\",\"rays\",\"rues\",\"camp\",\"lack\",\"okra\",\"tome\",\"math\",\"plug\",\"monk\",\"orly\",\"friz\",\"hogs\",\"yoda\",\"poop\",\"tick\",\"plod\",\"cloy\",\"pees\",\"imps\",\"lead\",\"pope\",\"mall\",\"frey\",\"been\",\"plea\",\"poll\",\"male\",\"teak\",\"soho\",\"glob\",\"bell\",\"mary\",\"hail\",\"scan\",\"yips\",\"like\",\"mull\",\"kory\",\"odor\",\"byte\",\"kaye\",\"word\",\"honk\",\"asks\",\"slid\",\"hopi\",\"toke\",\"gore\",\"flew\",\"tins\",\"mown\",\"oise\",\"hall\",\"vega\",\"sing\",\"fool\",\"boat\",\"bobs\",\"lain\",\"soft\",\"hard\",\"rots\",\"sees\",\"apex\",\"chan\",\"told\",\"woos\",\"unit\",\"scow\",\"gilt\",\"beef\",\"jars\",\"tyre\",\"imus\",\"neon\",\"soap\",\"dabs\",\"rein\",\"ovid\",\"hose\",\"husk\",\"loll\",\"asia\",\"cope\",\"tail\",\"hazy\",\"clad\",\"lash\",\"sags\",\"moll\",\"eddy\",\"fuel\",\"lift\",\"flog\",\"land\",\"sigh\",\"saks\",\"sail\",\"hook\",\"visa\",\"tier\",\"maws\",\"roeg\",\"gila\",\"eyes\",\"noah\",\"hypo\",\"tore\",\"eggs\",\"rove\",\"chap\",\"room\",\"wait\",\"lurk\",\"race\",\"host\",\"dada\",\"lola\",\"gabs\",\"sobs\",\"joel\",\"keck\",\"axed\",\"mead\",\"gust\",\"laid\",\"ends\",\"oort\",\"nose\",\"peer\",\"kept\",\"abet\",\"iran\",\"mick\",\"dead\",\"hags\",\"tens\",\"gown\",\"sick\",\"odis\",\"miro\",\"bill\",\"fawn\",\"sumo\",\"kilt\",\"huge\",\"ores\",\"oran\",\"flag\",\"tost\",\"seth\",\"sift\",\"poet\",\"reds\",\"pips\",\"cape\",\"togo\",\"wale\",\"limn\",\"toll\",\"ploy\",\"inns\",\"snag\",\"hoes\",\"jerk\",\"flux\",\"fido\",\"zane\",\"arab\",\"gamy\",\"raze\",\"lank\",\"hurt\",\"rail\",\"hind\",\"hoot\",\"dogy\",\"away\",\"pest\",\"hoed\",\"pose\",\"lose\",\"pole\",\"alva\",\"dino\",\"kind\",\"clan\",\"dips\",\"soup\",\"veto\",\"edna\",\"damp\",\"gush\",\"amen\",\"wits\",\"pubs\",\"fuzz\",\"cash\",\"pine\",\"trod\",\"gunk\",\"nude\",\"lost\",\"rite\",\"cory\",\"walt\",\"mica\",\"cart\",\"avow\",\"wind\",\"book\",\"leon\",\"life\",\"bang\",\"draw\",\"leek\",\"skis\",\"dram\",\"ripe\",\"mine\",\"urea\",\"tiff\",\"over\",\"gale\",\"weir\",\"defy\",\"norm\",\"tull\",\"whiz\",\"gill\",\"ward\",\"crag\",\"when\",\"mill\",\"firs\",\"sans\",\"flue\",\"reid\",\"ekes\",\"jain\",\"mutt\",\"hems\",\"laps\",\"piss\",\"pall\",\"rowe\",\"prey\",\"cull\",\"knew\",\"size\",\"wets\",\"hurl\",\"wont\",\"suva\",\"girt\",\"prys\",\"prow\",\"warn\",\"naps\",\"gong\",\"thru\",\"livy\",\"boar\",\"sade\",\"amok\",\"vice\",\"slat\",\"emir\",\"jade\",\"karl\",\"loyd\",\"cerf\",\"bess\",\"loss\",\"rums\",\"lats\",\"bode\",\"subs\",\"muss\",\"maim\",\"kits\",\"thin\",\"york\",\"punt\",\"gays\",\"alpo\",\"aids\",\"drag\",\"eras\",\"mats\",\"pyre\",\"clot\",\"step\",\"oath\",\"lout\",\"wary\",\"carp\",\"hums\",\"tang\",\"pout\",\"whip\",\"fled\",\"omar\",\"such\",\"kano\",\"jake\",\"stan\",\"loop\",\"fuss\",\"mini\",\"byrd\",\"exit\",\"fizz\",\"lire\",\"emil\",\"prop\",\"noes\",\"awed\",\"gift\",\"soli\",\"sale\",\"gage\",\"orin\",\"slur\",\"limp\",\"saar\",\"arks\",\"mast\",\"gnat\",\"port\",\"into\",\"geed\",\"pave\",\"awls\",\"cent\",\"cunt\",\"full\",\"dint\",\"hank\",\"mate\",\"coin\",\"tars\",\"scud\",\"veer\",\"coax\",\"bops\",\"uris\",\"loom\",\"shod\",\"crib\",\"lids\",\"drys\",\"fish\",\"edit\",\"dick\",\"erna\",\"else\",\"hahs\",\"alga\",\"moho\",\"wire\",\"fora\",\"tums\",\"ruth\",\"bets\",\"duns\",\"mold\",\"mush\",\"swop\",\"ruby\",\"bolt\",\"nave\",\"kite\",\"ahem\",\"brad\",\"tern\",\"nips\",\"whew\",\"bait\",\"ooze\",\"gino\",\"yuck\",\"drum\",\"shoe\",\"lobe\",\"dusk\",\"cult\",\"paws\",\"anew\",\"dado\",\"nook\",\"half\",\"lams\",\"rich\",\"cato\",\"java\",\"kemp\",\"vain\",\"fees\",\"sham\",\"auks\",\"gish\",\"fire\",\"elam\",\"salt\",\"sour\",\"loth\",\"whit\",\"yogi\",\"shes\",\"scam\",\"yous\",\"lucy\",\"inez\",\"geld\",\"whig\",\"thee\",\"kelp\",\"loaf\",\"harm\",\"tomb\",\"ever\",\"airs\",\"page\",\"laud\",\"stun\",\"paid\",\"goop\",\"cobs\",\"judy\",\"grab\",\"doha\",\"crew\",\"item\",\"fogs\",\"tong\",\"blip\",\"vest\",\"bran\",\"wend\",\"bawl\",\"feel\",\"jets\",\"mixt\",\"tell\",\"dire\",\"devi\",\"milo\",\"deng\",\"yews\",\"weak\",\"mark\",\"doug\",\"fare\",\"rigs\",\"poke\",\"hies\",\"sian\",\"suez\",\"quip\",\"kens\",\"lass\",\"zips\",\"elva\",\"brat\",\"cosy\",\"teri\",\"hull\",\"spun\",\"russ\",\"pupa\",\"weed\",\"pulp\",\"main\",\"grim\",\"hone\",\"cord\",\"barf\",\"olav\",\"gaps\",\"rote\",\"wilt\",\"lars\",\"roll\",\"balm\",\"jana\",\"give\",\"eire\",\"faun\",\"suck\",\"kegs\",\"nita\",\"weer\",\"tush\",\"spry\",\"loge\",\"nays\",\"heir\",\"dope\",\"roar\",\"peep\",\"nags\",\"ates\",\"bane\",\"seas\",\"sign\",\"fred\",\"they\",\"lien\",\"kiev\",\"fops\",\"said\",\"lawn\",\"lind\",\"miff\",\"mass\",\"trig\",\"sins\",\"furl\",\"ruin\",\"sent\",\"cray\",\"maya\",\"clog\",\"puns\",\"silk\",\"axis\",\"grog\",\"jots\",\"dyer\",\"mope\",\"rand\",\"vend\",\"keen\",\"chou\",\"dose\",\"rain\",\"eats\",\"sped\",\"maui\",\"evan\",\"time\",\"todd\",\"skit\",\"lief\",\"sops\",\"outs\",\"moot\",\"faze\",\"biro\",\"gook\",\"fill\",\"oval\",\"skew\",\"veil\",\"born\",\"slob\",\"hyde\",\"twin\",\"eloy\",\"beat\",\"ergs\",\"sure\",\"kobe\",\"eggo\",\"hens\",\"jive\",\"flax\",\"mons\",\"dunk\",\"yest\",\"begs\",\"dial\",\"lodz\",\"burp\",\"pile\",\"much\",\"dock\",\"rene\",\"sago\",\"racy\",\"have\",\"yalu\",\"glow\",\"move\",\"peps\",\"hods\",\"kins\",\"salk\",\"hand\",\"cons\",\"dare\",\"myra\",\"sega\",\"type\",\"mari\",\"pelt\",\"hula\",\"gulf\",\"jugs\",\"flay\",\"fest\",\"spat\",\"toms\",\"zeno\",\"taps\",\"deny\",\"swag\",\"afro\",\"baud\",\"jabs\",\"smut\",\"egos\",\"lara\",\"toes\",\"song\",\"fray\",\"luis\",\"brut\",\"olen\",\"mere\",\"ruff\",\"slum\",\"glad\",\"buds\",\"silt\",\"rued\",\"gelt\",\"hive\",\"teem\",\"ides\",\"sink\",\"ands\",\"wisp\",\"omen\",\"lyre\",\"yuks\",\"curb\",\"loam\",\"darn\",\"liar\",\"pugs\",\"pane\",\"carl\",\"sang\",\"scar\",\"zeds\",\"claw\",\"berg\",\"hits\",\"mile\",\"lite\",\"khan\",\"erik\",\"slug\",\"loon\",\"dena\",\"ruse\",\"talk\",\"tusk\",\"gaol\",\"tads\",\"beds\",\"sock\",\"howe\",\"gave\",\"snob\",\"ahab\",\"part\",\"meir\",\"jell\",\"stir\",\"tels\",\"spit\",\"hash\",\"omit\",\"jinx\",\"lyra\",\"puck\",\"laue\",\"beep\",\"eros\",\"owed\",\"cede\",\"brew\",\"slue\",\"mitt\",\"jest\",\"lynx\",\"wads\",\"gena\",\"dank\",\"volt\",\"gray\",\"pony\",\"veld\",\"bask\",\"fens\",\"argo\",\"work\",\"taxi\",\"afar\",\"boon\",\"lube\",\"pass\",\"lazy\",\"mist\",\"blot\",\"mach\",\"poky\",\"rams\",\"sits\",\"rend\",\"dome\",\"pray\",\"duck\",\"hers\",\"lure\",\"keep\",\"gory\",\"chat\",\"runt\",\"jams\",\"lays\",\"posy\",\"bats\",\"hoff\",\"rock\",\"keri\",\"raul\",\"yves\",\"lama\",\"ramp\",\"vote\",\"jody\",\"pock\",\"gist\",\"sass\",\"iago\",\"coos\",\"rank\",\"lowe\",\"vows\",\"koch\",\"taco\",\"jinn\",\"juno\",\"rape\",\"band\",\"aces\",\"goal\",\"huck\",\"lila\",\"tuft\",\"swan\",\"blab\",\"leda\",\"gems\",\"hide\",\"tack\",\"porn\",\"scum\",\"frat\",\"plum\",\"duds\",\"shad\",\"arms\",\"pare\",\"chin\",\"gain\",\"knee\",\"foot\",\"line\",\"dove\",\"vera\",\"jays\",\"fund\",\"reno\",\"skid\",\"boys\",\"corn\",\"gwyn\",\"sash\",\"weld\",\"ruiz\",\"dior\",\"jess\",\"leaf\",\"pars\",\"cote\",\"zing\",\"scat\",\"nice\",\"dart\",\"only\",\"owls\",\"hike\",\"trey\",\"whys\",\"ding\",\"klan\",\"ross\",\"barb\",\"ants\",\"lean\",\"dopy\",\"hock\",\"tour\",\"grip\",\"aldo\",\"whim\",\"prom\",\"rear\",\"dins\",\"duff\",\"dell\",\"loch\",\"lava\",\"sung\",\"yank\",\"thar\",\"curl\",\"venn\",\"blow\",\"pomp\",\"heat\",\"trap\",\"dali\",\"nets\",\"seen\",\"gash\",\"twig\",\"dads\",\"emmy\",\"rhea\",\"navy\",\"haws\",\"mite\",\"bows\",\"alas\",\"ives\",\"play\",\"soon\",\"doll\",\"chum\",\"ajar\",\"foam\",\"call\",\"puke\",\"kris\",\"wily\",\"came\",\"ales\",\"reef\",\"raid\",\"diet\",\"prod\",\"prut\",\"loot\",\"soar\",\"coed\",\"celt\",\"seam\",\"dray\",\"lump\",\"jags\",\"nods\",\"sole\",\"kink\",\"peso\",\"howl\",\"cost\",\"tsar\",\"uric\",\"sore\",\"woes\",\"sewn\",\"sake\",\"cask\",\"caps\",\"burl\",\"tame\",\"bulk\",\"neva\",\"from\",\"meet\",\"webs\",\"spar\",\"fuck\",\"buoy\",\"wept\",\"west\",\"dual\",\"pica\",\"sold\",\"seed\",\"gads\",\"riff\",\"neck\",\"deed\",\"rudy\",\"drop\",\"vale\",\"flit\",\"romp\",\"peak\",\"jape\",\"jews\",\"fain\",\"dens\",\"hugo\",\"elba\",\"mink\",\"town\",\"clam\",\"feud\",\"fern\",\"dung\",\"newt\",\"mime\",\"deem\",\"inti\",\"gigs\",\"sosa\",\"lope\",\"lard\",\"cara\",\"smug\",\"lego\",\"flex\",\"doth\",\"paar\",\"moon\",\"wren\",\"tale\",\"kant\",\"eels\",\"muck\",\"toga\",\"zens\",\"lops\",\"duet\",\"coil\",\"gall\",\"teal\",\"glib\",\"muir\",\"ails\",\"boer\",\"them\",\"rake\",\"conn\",\"neat\",\"frog\",\"trip\",\"coma\",\"must\",\"mono\",\"lira\",\"craw\",\"sled\",\"wear\",\"toby\",\"reel\",\"hips\",\"nate\",\"pump\",\"mont\",\"died\",\"moss\",\"lair\",\"jibe\",\"oils\",\"pied\",\"hobs\",\"cads\",\"haze\",\"muse\",\"cogs\",\"figs\",\"cues\",\"roes\",\"whet\",\"boru\",\"cozy\",\"amos\",\"tans\",\"news\",\"hake\",\"cots\",\"boas\",\"tutu\",\"wavy\",\"pipe\",\"typo\",\"albs\",\"boom\",\"dyke\",\"wail\",\"woke\",\"ware\",\"rita\",\"fail\",\"slab\",\"owes\",\"jane\",\"rack\",\"hell\",\"lags\",\"mend\",\"mask\",\"hume\",\"wane\",\"acne\",\"team\",\"holy\",\"runs\",\"exes\",\"dole\",\"trim\",\"zola\",\"trek\",\"puma\",\"wacs\",\"veep\",\"yaps\",\"sums\",\"lush\",\"tubs\",\"most\",\"witt\",\"bong\",\"rule\",\"hear\",\"awry\",\"sots\",\"nils\",\"bash\",\"gasp\",\"inch\",\"pens\",\"fies\",\"juts\",\"pate\",\"vine\",\"zulu\",\"this\",\"bare\",\"veal\",\"josh\",\"reek\",\"ours\",\"cowl\",\"club\",\"farm\",\"teat\",\"coat\",\"dish\",\"fore\",\"weft\",\"exam\",\"vlad\",\"floe\",\"beak\",\"lane\",\"ella\",\"warp\",\"goth\",\"ming\",\"pits\",\"rent\",\"tito\",\"wish\",\"amps\",\"says\",\"hawk\",\"ways\",\"punk\",\"nark\",\"cagy\",\"east\",\"paul\",\"bose\",\"solo\",\"teed\",\"text\",\"hews\",\"snip\",\"lips\",\"emit\",\"orgy\",\"icon\",\"tuna\",\"soul\",\"kurd\",\"clod\",\"calk\",\"aunt\",\"bake\",\"copy\",\"acid\",\"duse\",\"kiln\",\"spec\",\"fans\",\"bani\",\"irma\",\"pads\",\"batu\",\"logo\",\"pack\",\"oder\",\"atop\",\"funk\",\"gide\",\"bede\",\"bibs\",\"taut\",\"guns\",\"dana\",\"puff\",\"lyme\",\"flat\",\"lake\",\"june\",\"sets\",\"gull\",\"hops\",\"earn\",\"clip\",\"fell\",\"kama\",\"seal\",\"diaz\",\"cite\",\"chew\",\"cuba\",\"bury\",\"yard\",\"bank\",\"byes\",\"apia\",\"cree\",\"nosh\",\"judo\",\"walk\",\"tape\",\"taro\",\"boot\",\"cods\",\"lade\",\"cong\",\"deft\",\"slim\",\"jeri\",\"rile\",\"park\",\"aeon\",\"fact\",\"slow\",\"goff\",\"cane\",\"earp\",\"tart\",\"does\",\"acts\",\"hope\",\"cant\",\"buts\",\"shin\",\"dude\",\"ergo\",\"mode\",\"gene\",\"lept\",\"chen\",\"beta\",\"eden\",\"pang\",\"saab\",\"fang\",\"whir\",\"cove\",\"perk\",\"fads\",\"rugs\",\"herb\",\"putt\",\"nous\",\"vane\",\"corm\",\"stay\",\"bids\",\"vela\",\"roof\",\"isms\",\"sics\",\"gone\",\"swum\",\"wiry\",\"cram\",\"rink\",\"pert\",\"heap\",\"sikh\",\"dais\",\"cell\",\"peel\",\"nuke\",\"buss\",\"rasp\",\"none\",\"slut\",\"bent\",\"dams\",\"serb\",\"dork\",\"bays\",\"kale\",\"cora\",\"wake\",\"welt\",\"rind\",\"trot\",\"sloe\",\"pity\",\"rout\",\"eves\",\"fats\",\"furs\",\"pogo\",\"beth\",\"hued\",\"edam\",\"iamb\",\"glee\",\"lute\",\"keel\",\"airy\",\"easy\",\"tire\",\"rube\",\"bogy\",\"sine\",\"chop\",\"rood\",\"elbe\",\"mike\",\"garb\",\"jill\",\"gaul\",\"chit\",\"dons\",\"bars\",\"ride\",\"beck\",\"toad\",\"make\",\"head\",\"suds\",\"pike\",\"snot\",\"swat\",\"peed\",\"same\",\"gaza\",\"lent\",\"gait\",\"gael\",\"elks\",\"hang\",\"nerf\",\"rosy\",\"shut\",\"glop\",\"pain\",\"dion\",\"deaf\",\"hero\",\"doer\",\"wost\",\"wage\",\"wash\",\"pats\",\"narc\",\"ions\",\"dice\",\"quay\",\"vied\",\"eons\",\"case\",\"pour\",\"urns\",\"reva\",\"rags\",\"aden\",\"bone\",\"rang\",\"aura\",\"iraq\",\"toot\",\"rome\",\"hals\",\"megs\",\"pond\",\"john\",\"yeps\",\"pawl\",\"warm\",\"bird\",\"tint\",\"jowl\",\"gibe\",\"come\",\"hold\",\"pail\",\"wipe\",\"bike\",\"rips\",\"eery\",\"kent\",\"hims\",\"inks\",\"fink\",\"mott\",\"ices\",\"macy\",\"serf\",\"keys\",\"tarp\",\"cops\",\"sods\",\"feet\",\"tear\",\"benz\",\"buys\",\"colo\",\"boil\",\"sews\",\"enos\",\"watt\",\"pull\",\"brag\",\"cork\",\"save\",\"mint\",\"feat\",\"jamb\",\"rubs\",\"roxy\",\"toys\",\"nosy\",\"yowl\",\"tamp\",\"lobs\",\"foul\",\"doom\",\"sown\",\"pigs\",\"hemp\",\"fame\",\"boor\",\"cube\",\"tops\",\"loco\",\"lads\",\"eyre\",\"alta\",\"aged\",\"flop\",\"pram\",\"lesa\",\"sawn\",\"plow\",\"aral\",\"load\",\"lied\",\"pled\",\"boob\",\"bert\",\"rows\",\"zits\",\"rick\",\"hint\",\"dido\",\"fist\",\"marc\",\"wuss\",\"node\",\"smog\",\"nora\",\"shim\",\"glut\",\"bale\",\"perl\",\"what\",\"tort\",\"meek\",\"brie\",\"bind\",\"cake\",\"psst\",\"dour\",\"jove\",\"tree\",\"chip\",\"stud\",\"thou\",\"mobs\",\"sows\",\"opts\",\"diva\",\"perm\",\"wise\",\"cuds\",\"sols\",\"alan\",\"mild\",\"pure\",\"gail\",\"wins\",\"offs\",\"nile\",\"yelp\",\"minn\",\"tors\",\"tran\",\"homy\",\"sadr\",\"erse\",\"nero\",\"scab\",\"finn\",\"mich\",\"turd\",\"then\",\"poem\",\"noun\",\"oxus\",\"brow\",\"door\",\"saws\",\"eben\",\"wart\",\"wand\",\"rosa\",\"left\",\"lina\",\"cabs\",\"rapt\",\"olin\",\"suet\",\"kalb\",\"mans\",\"dawn\",\"riel\",\"temp\",\"chug\",\"peal\",\"drew\",\"null\",\"hath\",\"many\",\"took\",\"fond\",\"gate\",\"sate\",\"leak\",\"zany\",\"vans\",\"mart\",\"hess\",\"home\",\"long\",\"dirk\",\"bile\",\"lace\",\"moog\",\"axes\",\"zone\",\"fork\",\"duct\",\"rico\",\"rife\",\"deep\",\"tiny\",\"hugh\",\"bilk\",\"waft\",\"swig\",\"pans\",\"with\",\"kern\",\"busy\",\"film\",\"lulu\",\"king\",\"lord\",\"veda\",\"tray\",\"legs\",\"soot\",\"ells\",\"wasp\",\"hunt\",\"earl\",\"ouch\",\"diem\",\"yell\",\"pegs\",\"blvd\",\"polk\",\"soda\",\"zorn\",\"liza\",\"slop\",\"week\",\"kill\",\"rusk\",\"eric\",\"sump\",\"haul\",\"rims\",\"crop\",\"blob\",\"face\",\"bins\",\"read\",\"care\",\"pele\",\"ritz\",\"beau\",\"golf\",\"drip\",\"dike\",\"stab\",\"jibs\",\"hove\",\"junk\",\"hoax\",\"tats\",\"fief\",\"quad\",\"peat\",\"ream\",\"hats\",\"root\",\"flak\",\"grit\",\"clap\",\"pugh\",\"bosh\",\"lock\",\"mute\",\"crow\",\"iced\",\"lisa\",\"bela\",\"fems\",\"oxes\",\"vies\",\"gybe\",\"huff\",\"bull\",\"cuss\",\"sunk\",\"pups\",\"fobs\",\"turf\",\"sect\",\"atom\",\"debt\",\"sane\",\"writ\",\"anon\",\"mayo\",\"aria\",\"seer\",\"thor\",\"brim\",\"gawk\",\"jack\",\"jazz\",\"menu\",\"yolk\",\"surf\",\"libs\",\"lets\",\"bans\",\"toil\",\"open\",\"aced\",\"poor\",\"mess\",\"wham\",\"fran\",\"gina\",\"dote\",\"love\",\"mood\",\"pale\",\"reps\",\"ines\",\"shot\",\"alar\",\"twit\",\"site\",\"dill\",\"yoga\",\"sear\",\"vamp\",\"abel\",\"lieu\",\"cuff\",\"orbs\",\"rose\",\"tank\",\"gape\",\"guam\",\"adar\",\"vole\",\"your\",\"dean\",\"dear\",\"hebe\",\"crab\",\"hump\",\"mole\",\"vase\",\"rode\",\"dash\",\"sera\",\"balk\",\"lela\",\"inca\",\"gaea\",\"bush\",\"loud\",\"pies\",\"aide\",\"blew\",\"mien\",\"side\",\"kerr\",\"ring\",\"tess\",\"prep\",\"rant\",\"lugs\",\"hobo\",\"joke\",\"odds\",\"yule\",\"aida\",\"true\",\"pone\",\"lode\",\"nona\",\"weep\",\"coda\",\"elmo\",\"skim\",\"wink\",\"bras\",\"pier\",\"bung\",\"pets\",\"tabs\",\"ryan\",\"jock\",\"body\",\"sofa\",\"joey\",\"zion\",\"mace\",\"kick\",\"vile\",\"leno\",\"bali\",\"fart\",\"that\",\"redo\",\"ills\",\"jogs\",\"pent\",\"drub\",\"slaw\",\"tide\",\"lena\",\"seep\",\"gyps\",\"wave\",\"amid\",\"fear\",\"ties\",\"flan\",\"wimp\",\"kali\",\"shun\",\"crap\",\"sage\",\"rune\",\"logs\",\"cain\",\"digs\",\"abut\",\"obit\",\"paps\",\"rids\",\"fair\",\"hack\",\"huns\",\"road\",\"caws\",\"curt\",\"jute\",\"fisk\",\"fowl\",\"duty\",\"holt\",\"miss\",\"rude\",\"vito\",\"baal\",\"ural\",\"mann\",\"mind\",\"belt\",\"clem\",\"last\",\"musk\",\"roam\",\"abed\",\"days\",\"bore\",\"fuze\",\"fall\",\"pict\",\"dump\",\"dies\",\"fiat\",\"vent\",\"pork\",\"eyed\",\"docs\",\"rive\",\"spas\",\"rope\",\"ariz\",\"tout\",\"game\",\"jump\",\"blur\",\"anti\",\"lisp\",\"turn\",\"sand\",\"food\",\"moos\",\"hoop\",\"saul\",\"arch\",\"fury\",\"rise\",\"diss\",\"hubs\",\"burs\",\"grid\",\"ilks\",\"suns\",\"flea\",\"soil\",\"lung\",\"want\",\"nola\",\"fins\",\"thud\",\"kidd\",\"juan\",\"heps\",\"nape\",\"rash\",\"burt\",\"bump\",\"tots\",\"brit\",\"mums\",\"bole\",\"shah\",\"tees\",\"skip\",\"limb\",\"umps\",\"ache\",\"arcs\",\"raft\",\"halo\",\"luce\",\"bahs\",\"leta\",\"conk\",\"duos\",\"siva\",\"went\",\"peek\",\"sulk\",\"reap\",\"free\",\"dubs\",\"lang\",\"toto\",\"hasp\",\"ball\",\"rats\",\"nair\",\"myst\",\"wang\",\"snug\",\"nash\",\"laos\",\"ante\",\"opal\",\"tina\",\"pore\",\"bite\",\"haas\",\"myth\",\"yugo\",\"foci\",\"dent\",\"bade\",\"pear\",\"mods\",\"auto\",\"shop\",\"etch\",\"lyly\",\"curs\",\"aron\",\"slew\",\"tyro\",\"sack\",\"wade\",\"clio\",\"gyro\",\"butt\",\"icky\",\"char\",\"itch\",\"halt\",\"gals\",\"yang\",\"tend\",\"pact\",\"bees\",\"suit\",\"puny\",\"hows\",\"nina\",\"brno\",\"oops\",\"lick\",\"sons\",\"kilo\",\"bust\",\"nome\",\"mona\",\"dull\",\"join\",\"hour\",\"papa\",\"stag\",\"bern\",\"wove\",\"lull\",\"slip\",\"laze\",\"roil\",\"alto\",\"bath\",\"buck\",\"alma\",\"anus\",\"evil\",\"dumb\",\"oreo\",\"rare\",\"near\",\"cure\",\"isis\",\"hill\",\"kyle\",\"pace\",\"comb\",\"nits\",\"flip\",\"clop\",\"mort\",\"thea\",\"wall\",\"kiel\",\"judd\",\"coop\",\"dave\",\"very\",\"amie\",\"blah\",\"flub\",\"talc\",\"bold\",\"fogy\",\"idea\",\"prof\",\"horn\",\"shoo\",\"aped\",\"pins\",\"helm\",\"wees\",\"beer\",\"womb\",\"clue\",\"alba\",\"aloe\",\"fine\",\"bard\",\"limo\",\"shaw\",\"pint\",\"swim\",\"dust\",\"indy\",\"hale\",\"cats\",\"troy\",\"wens\",\"luke\",\"vern\",\"deli\",\"both\",\"brig\",\"daub\",\"sara\",\"sued\",\"bier\",\"noel\",\"olga\",\"dupe\",\"look\",\"pisa\",\"knox\",\"murk\",\"dame\",\"matt\",\"gold\",\"jame\",\"toge\",\"luck\",\"peck\",\"tass\",\"calf\",\"pill\",\"wore\",\"wadi\",\"thur\",\"parr\",\"maul\",\"tzar\",\"ones\",\"lees\",\"dark\",\"fake\",\"bast\",\"zoom\",\"here\",\"moro\",\"wine\",\"bums\",\"cows\",\"jean\",\"palm\",\"fume\",\"plop\",\"help\",\"tuba\",\"leap\",\"cans\",\"back\",\"avid\",\"lice\",\"lust\",\"polo\",\"dory\",\"stew\",\"kate\",\"rama\",\"coke\",\"bled\",\"mugs\",\"ajax\",\"arts\",\"drug\",\"pena\",\"cody\",\"hole\",\"sean\",\"deck\",\"guts\",\"kong\",\"bate\",\"pitt\",\"como\",\"lyle\",\"siam\",\"rook\",\"baby\",\"jigs\",\"bret\",\"bark\",\"lori\",\"reba\",\"sups\",\"made\",\"buzz\",\"gnaw\",\"alps\",\"clay\",\"post\",\"viol\",\"dina\",\"card\",\"lana\",\"doff\",\"yups\",\"tons\",\"live\",\"kids\",\"pair\",\"yawl\",\"name\",\"oven\",\"sirs\",\"gyms\",\"prig\",\"down\",\"leos\",\"noon\",\"nibs\",\"cook\",\"safe\",\"cobb\",\"raja\",\"awes\",\"sari\",\"nerd\",\"fold\",\"lots\",\"pete\",\"deal\",\"bias\",\"zeal\",\"girl\",\"rage\",\"cool\",\"gout\",\"whey\",\"soak\",\"thaw\",\"bear\",\"wing\",\"nagy\",\"well\",\"oink\",\"sven\",\"kurt\",\"etna\",\"held\",\"wood\",\"high\",\"feta\",\"twee\",\"ford\",\"cave\",\"knot\",\"tory\",\"ibis\",\"yaks\",\"vets\",\"foxy\",\"sank\",\"cone\",\"pius\",\"tall\",\"seem\",\"wool\",\"flap\",\"gird\",\"lore\",\"coot\",\"mewl\",\"sere\",\"real\",\"puts\",\"sell\",\"nuts\",\"foil\",\"lilt\",\"saga\",\"heft\",\"dyed\",\"goat\",\"spew\",\"daze\",\"frye\",\"adds\",\"glen\",\"tojo\",\"pixy\",\"gobi\",\"stop\",\"tile\",\"hiss\",\"shed\",\"hahn\",\"baku\",\"ahas\",\"sill\",\"swap\",\"also\",\"carr\",\"manx\",\"lime\",\"debs\",\"moat\",\"eked\",\"bola\",\"pods\",\"coon\",\"lacy\",\"tube\",\"minx\",\"buff\",\"pres\",\"clew\",\"gaff\",\"flee\",\"burn\",\"whom\",\"cola\",\"fret\",\"purl\",\"wick\",\"wigs\",\"donn\",\"guys\",\"toni\",\"oxen\",\"wite\",\"vial\",\"spam\",\"huts\",\"vats\",\"lima\",\"core\",\"eula\",\"thad\",\"peon\",\"erie\",\"oats\",\"boyd\",\"cued\",\"olaf\",\"tams\",\"secs\",\"urey\",\"wile\",\"penn\",\"bred\",\"rill\",\"vary\",\"sues\",\"mail\",\"feds\",\"aves\",\"code\",\"beam\",\"reed\",\"neil\",\"hark\",\"pols\",\"gris\",\"gods\",\"mesa\",\"test\",\"coup\",\"heed\",\"dora\",\"hied\",\"tune\",\"doze\",\"pews\",\"oaks\",\"bloc\",\"tips\",\"maid\",\"goof\",\"four\",\"woof\",\"silo\",\"bray\",\"zest\",\"kiss\",\"yong\",\"file\",\"hilt\",\"iris\",\"tuns\",\"lily\",\"ears\",\"pant\",\"jury\",\"taft\",\"data\",\"gild\",\"pick\",\"kook\",\"colt\",\"bohr\",\"anal\",\"asps\",\"babe\",\"bach\",\"mash\",\"biko\",\"bowl\",\"huey\",\"jilt\",\"goes\",\"guff\",\"bend\",\"nike\",\"tami\",\"gosh\",\"tike\",\"gees\",\"urge\",\"path\",\"bony\",\"jude\",\"lynn\",\"lois\",\"teas\",\"dunn\",\"elul\",\"bonn\",\"moms\",\"bugs\",\"slay\",\"yeah\",\"loan\",\"hulk\",\"lows\",\"damn\",\"nell\",\"jung\",\"avis\",\"mane\",\"waco\",\"loin\",\"knob\",\"tyke\",\"anna\",\"hire\",\"luau\",\"tidy\",\"nuns\",\"pots\",\"quid\",\"exec\",\"hans\",\"hera\",\"hush\",\"shag\",\"scot\",\"moan\",\"wald\",\"ursa\",\"lorn\",\"hunk\",\"loft\",\"yore\",\"alum\",\"mows\",\"slog\",\"emma\",\"spud\",\"rice\",\"worn\",\"erma\",\"need\",\"bags\",\"lark\",\"kirk\",\"pooh\",\"dyes\",\"area\",\"dime\",\"luvs\",\"foch\",\"refs\",\"cast\",\"alit\",\"tugs\",\"even\",\"role\",\"toed\",\"caph\",\"nigh\",\"sony\",\"bide\",\"robs\",\"folk\",\"daft\",\"past\",\"blue\",\"flaw\",\"sana\",\"fits\",\"barr\",\"riot\",\"dots\",\"lamp\",\"cock\",\"fibs\",\"harp\",\"tent\",\"hate\",\"mali\",\"togs\",\"gear\",\"tues\",\"bass\",\"pros\",\"numb\",\"emus\",\"hare\",\"fate\",\"wife\",\"mean\",\"pink\",\"dune\",\"ares\",\"dine\",\"oily\",\"tony\",\"czar\",\"spay\",\"push\",\"glum\",\"till\",\"moth\",\"glue\",\"dive\",\"scad\",\"pops\",\"woks\",\"andy\",\"leah\",\"cusp\",\"hair\",\"alex\",\"vibe\",\"bulb\",\"boll\",\"firm\",\"joys\",\"tara\",\"cole\",\"levy\",\"owen\",\"chow\",\"rump\",\"jail\",\"lapp\",\"beet\",\"slap\",\"kith\",\"more\",\"maps\",\"bond\",\"hick\",\"opus\",\"rust\",\"wist\",\"shat\",\"phil\",\"snow\",\"lott\",\"lora\",\"cary\",\"mote\",\"rift\",\"oust\",\"klee\",\"goad\",\"pith\",\"heep\",\"lupe\",\"ivan\",\"mimi\",\"bald\",\"fuse\",\"cuts\",\"lens\",\"leer\",\"eyry\",\"know\",\"razz\",\"tare\",\"pals\",\"geek\",\"greg\",\"teen\",\"clef\",\"wags\",\"weal\",\"each\",\"haft\",\"nova\",\"waif\",\"rate\",\"katy\",\"yale\",\"dale\",\"leas\",\"axum\",\"quiz\",\"pawn\",\"fend\",\"capt\",\"laws\",\"city\",\"chad\",\"coal\",\"nail\",\"zaps\",\"sort\",\"loci\",\"less\",\"spur\",\"note\",\"foes\",\"fags\",\"gulp\",\"snap\",\"bogs\",\"wrap\",\"dane\",\"melt\",\"ease\",\"felt\",\"shea\",\"calm\",\"star\",\"swam\",\"aery\",\"year\",\"plan\",\"odin\",\"curd\",\"mira\",\"mops\",\"shit\",\"davy\",\"apes\",\"inky\",\"hues\",\"lome\",\"bits\",\"vila\",\"show\",\"best\",\"mice\",\"gins\",\"next\",\"roan\",\"ymir\",\"mars\",\"oman\",\"wild\",\"heal\",\"plus\",\"erin\",\"rave\",\"robe\",\"fast\",\"hutu\",\"aver\",\"jodi\",\"alms\",\"yams\",\"zero\",\"revs\",\"wean\",\"chic\",\"self\",\"jeep\",\"jobs\",\"waxy\",\"duel\",\"seek\",\"spot\",\"raps\",\"pimp\",\"adan\",\"slam\",\"tool\",\"morn\",\"futz\",\"ewes\",\"errs\",\"knit\",\"rung\",\"kans\",\"muff\",\"huhs\",\"tows\",\"lest\",\"meal\",\"azov\",\"gnus\",\"agar\",\"sips\",\"sway\",\"otis\",\"tone\",\"tate\",\"epic\",\"trio\",\"tics\",\"fade\",\"lear\",\"owns\",\"robt\",\"weds\",\"five\",\"lyon\",\"terr\",\"arno\",\"mama\",\"grey\",\"disk\",\"sept\",\"sire\",\"bart\",\"saps\",\"whoa\",\"turk\",\"stow\",\"pyle\",\"joni\",\"zinc\",\"negs\",\"task\",\"leif\",\"ribs\",\"malt\",\"nine\",\"bunt\",\"grin\",\"dona\",\"nope\",\"hams\",\"some\",\"molt\",\"smit\",\"sacs\",\"joan\",\"slav\",\"lady\",\"base\",\"heck\",\"list\",\"take\",\"herd\",\"will\",\"nubs\",\"burg\",\"hugs\",\"peru\",\"coif\",\"zoos\",\"nick\",\"idol\",\"levi\",\"grub\",\"roth\",\"adam\",\"elma\",\"tags\",\"tote\",\"yaws\",\"cali\",\"mete\",\"lula\",\"cubs\",\"prim\",\"luna\",\"jolt\",\"span\",\"pita\",\"dodo\",\"puss\",\"deer\",\"term\",\"dolt\",\"goon\",\"gary\",\"yarn\",\"aims\",\"just\",\"rena\",\"tine\",\"cyst\",\"meld\",\"loki\",\"wong\",\"were\",\"hung\",\"maze\",\"arid\",\"cars\",\"wolf\",\"marx\",\"faye\",\"eave\",\"raga\",\"flow\",\"neal\",\"lone\",\"anne\",\"cage\",\"tied\",\"tilt\",\"soto\",\"opel\",\"date\",\"buns\",\"dorm\",\"kane\",\"akin\",\"ewer\",\"drab\",\"thai\",\"jeer\",\"grad\",\"berm\",\"rods\",\"saki\",\"grus\",\"vast\",\"late\",\"lint\",\"mule\",\"risk\",\"labs\",\"snit\",\"gala\",\"find\",\"spin\",\"ired\",\"slot\",\"oafs\",\"lies\",\"mews\",\"wino\",\"milk\",\"bout\",\"onus\",\"tram\",\"jaws\",\"peas\",\"cleo\",\"seat\",\"gums\",\"cold\",\"vang\",\"dewy\",\"hood\",\"rush\",\"mack\",\"yuan\",\"odes\",\"boos\",\"jami\",\"mare\",\"plot\",\"swab\",\"borg\",\"hays\",\"form\",\"mesh\",\"mani\",\"fife\",\"good\",\"gram\",\"lion\",\"myna\",\"moor\",\"skin\",\"posh\",\"burr\",\"rime\",\"done\",\"ruts\",\"pays\",\"stem\",\"ting\",\"arty\",\"slag\",\"iron\",\"ayes\",\"stub\",\"oral\",\"gets\",\"chid\",\"yens\",\"snub\",\"ages\",\"wide\",\"bail\",\"verb\",\"lamb\",\"bomb\",\"army\",\"yoke\",\"gels\",\"tits\",\"bork\",\"mils\",\"nary\",\"barn\",\"hype\",\"odom\",\"avon\",\"hewn\",\"rios\",\"cams\",\"tact\",\"boss\",\"oleo\",\"duke\",\"eris\",\"gwen\",\"elms\",\"deon\",\"sims\",\"quit\",\"nest\",\"font\",\"dues\",\"yeas\",\"zeta\",\"bevy\",\"gent\",\"torn\",\"cups\",\"worm\",\"baum\",\"axon\",\"purr\",\"vise\",\"grew\",\"govs\",\"meat\",\"chef\",\"rest\",\"lame\"]\n",
      "wordset = set(wordlist)"
     ],
     "language": "python",
     "metadata": {},
     "outputs": [],
     "prompt_number": 424
    },
    {
     "cell_type": "code",
     "collapsed": false,
     "input": [
      "test2.findLadders(beginWord,endWord,wordset)"
     ],
     "language": "python",
     "metadata": {},
     "outputs": [
      {
       "metadata": {},
       "output_type": "pyout",
       "prompt_number": 425,
       "text": [
        "[['sand',\n",
        "  'sans',\n",
        "  'sins',\n",
        "  'sims',\n",
        "  'aims',\n",
        "  'arms',\n",
        "  'arts',\n",
        "  'ants',\n",
        "  'ante',\n",
        "  'anne',\n",
        "  'acne'],\n",
        " ['sand',\n",
        "  'sans',\n",
        "  'kans',\n",
        "  'kins',\n",
        "  'kids',\n",
        "  'aids',\n",
        "  'ands',\n",
        "  'ants',\n",
        "  'ante',\n",
        "  'anne',\n",
        "  'acne'],\n",
        " ['sand',\n",
        "  'sans',\n",
        "  'sins',\n",
        "  'kins',\n",
        "  'kids',\n",
        "  'aids',\n",
        "  'ands',\n",
        "  'ants',\n",
        "  'ante',\n",
        "  'anne',\n",
        "  'acne'],\n",
        " ['sand',\n",
        "  'sane',\n",
        "  'sine',\n",
        "  'side',\n",
        "  'aide',\n",
        "  'aids',\n",
        "  'ands',\n",
        "  'ants',\n",
        "  'ante',\n",
        "  'anne',\n",
        "  'acne'],\n",
        " ['sand',\n",
        "  'sane',\n",
        "  'sade',\n",
        "  'side',\n",
        "  'aide',\n",
        "  'aids',\n",
        "  'ands',\n",
        "  'ants',\n",
        "  'ante',\n",
        "  'anne',\n",
        "  'acne'],\n",
        " ['sand',\n",
        "  'sans',\n",
        "  'sins',\n",
        "  'sirs',\n",
        "  'airs',\n",
        "  'aids',\n",
        "  'ands',\n",
        "  'ants',\n",
        "  'ante',\n",
        "  'anne',\n",
        "  'acne'],\n",
        " ['sand',\n",
        "  'sans',\n",
        "  'sins',\n",
        "  'sims',\n",
        "  'aims',\n",
        "  'aids',\n",
        "  'ands',\n",
        "  'ants',\n",
        "  'ante',\n",
        "  'anne',\n",
        "  'acne'],\n",
        " ['sand',\n",
        "  'sans',\n",
        "  'bans',\n",
        "  'bins',\n",
        "  'bids',\n",
        "  'aids',\n",
        "  'ands',\n",
        "  'ants',\n",
        "  'ante',\n",
        "  'anne',\n",
        "  'acne'],\n",
        " ['sand',\n",
        "  'band',\n",
        "  'bans',\n",
        "  'bins',\n",
        "  'bids',\n",
        "  'aids',\n",
        "  'ands',\n",
        "  'ants',\n",
        "  'ante',\n",
        "  'anne',\n",
        "  'acne'],\n",
        " ['sand',\n",
        "  'sans',\n",
        "  'sins',\n",
        "  'bins',\n",
        "  'bids',\n",
        "  'aids',\n",
        "  'ands',\n",
        "  'ants',\n",
        "  'ante',\n",
        "  'anne',\n",
        "  'acne'],\n",
        " ['sand',\n",
        "  'band',\n",
        "  'bind',\n",
        "  'bins',\n",
        "  'bids',\n",
        "  'aids',\n",
        "  'ands',\n",
        "  'ants',\n",
        "  'ante',\n",
        "  'anne',\n",
        "  'acne']]"
       ]
      }
     ],
     "prompt_number": 425
    },
    {
     "cell_type": "code",
     "collapsed": false,
     "input": [
      "%timeit test2.findLadders(beginWord,endWord,wordset)"
     ],
     "language": "python",
     "metadata": {},
     "outputs": [
      {
       "output_type": "stream",
       "stream": "stdout",
       "text": [
        "1 loops, best of 3: 16.1 s per loop\n"
       ]
      }
     ],
     "prompt_number": 395
    },
    {
     "cell_type": "code",
     "collapsed": false,
     "input": [],
     "language": "python",
     "metadata": {},
     "outputs": []
    }
   ],
   "metadata": {}
  }
 ]
}